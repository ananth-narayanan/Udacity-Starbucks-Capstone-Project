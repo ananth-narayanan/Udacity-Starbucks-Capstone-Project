{
 "cells": [
  {
   "cell_type": "markdown",
   "metadata": {},
   "source": [
    "# Starbucks Capstone Challenge\n",
    "\n",
    "### Introduction\n",
    "\n",
    "This data set contains simulated data that mimics customer behavior on the Starbucks rewards mobile app. Once every few days, Starbucks sends out an offer to users of the mobile app. An offer can be merely an advertisement for a drink or an actual offer such as a discount or BOGO (buy one get one free). Some users might not receive any offer during certain weeks. \n",
    "\n",
    "Not all users receive the same offer, and that is the challenge to solve with this data set.\n",
    "\n",
    "Your task is to combine transaction, demographic and offer data to determine which demographic groups respond best to which offer type. This data set is a simplified version of the real Starbucks app because the underlying simulator only has one product whereas Starbucks actually sells dozens of products.\n",
    "\n",
    "Every offer has a validity period before the offer expires. As an example, a BOGO offer might be valid for only 5 days. You'll see in the data set that informational offers have a validity period even though these ads are merely providing information about a product; for example, if an informational offer has 7 days of validity, you can assume the customer is feeling the influence of the offer for 7 days after receiving the advertisement.\n",
    "\n",
    "You'll be given transactional data showing user purchases made on the app including the timestamp of purchase and the amount of money spent on a purchase. This transactional data also has a record for each offer that a user receives as well as a record for when a user actually views the offer. There are also records for when a user completes an offer. \n",
    "\n",
    "Keep in mind as well that someone using the app might make a purchase through the app without having received an offer or seen an offer.\n",
    "\n",
    "### Example\n",
    "\n",
    "To give an example, a user could receive a discount offer buy 10 dollars get 2 off on Monday. The offer is valid for 10 days from receipt. If the customer accumulates at least 10 dollars in purchases during the validity period, the customer completes the offer.\n",
    "\n",
    "However, there are a few things to watch out for in this data set. Customers do not opt into the offers that they receive; in other words, a user can receive an offer, never actually view the offer, and still complete the offer. For example, a user might receive the \"buy 10 dollars get 2 dollars off offer\", but the user never opens the offer during the 10 day validity period. The customer spends 15 dollars during those ten days. There will be an offer completion record in the data set; however, the customer was not influenced by the offer because the customer never viewed the offer.\n",
    "\n",
    "### Cleaning\n",
    "\n",
    "This makes data cleaning especially important and tricky.\n",
    "\n",
    "You'll also want to take into account that some demographic groups will make purchases even if they don't receive an offer. From a business perspective, if a customer is going to make a 10 dollar purchase without an offer anyway, you wouldn't want to send a buy 10 dollars get 2 dollars off offer. You'll want to try to assess what a certain demographic group will buy when not receiving any offers.\n",
    "\n",
    "### Final Advice\n",
    "\n",
    "Because this is a capstone project, you are free to analyze the data any way you see fit. For example, you could build a machine learning model that predicts how much someone will spend based on demographics and offer type. Or you could build a model that predicts whether or not someone will respond to an offer. Or, you don't need to build a machine learning model at all. You could develop a set of heuristics that determine what offer you should send to each customer (i.e., 75 percent of women customers who were 35 years old responded to offer A vs 40 percent from the same demographic to offer B, so send offer A)."
   ]
  },
  {
   "cell_type": "markdown",
   "metadata": {},
   "source": [
    "# Data Sets\n",
    "\n",
    "The data is contained in three files:\n",
    "\n",
    "* portfolio.json - containing offer ids and meta data about each offer (duration, type, etc.)\n",
    "* profile.json - demographic data for each customer\n",
    "* transcript.json - records for transactions, offers received, offers viewed, and offers completed\n",
    "\n",
    "Here is the schema and explanation of each variable in the files:\n",
    "\n",
    "**portfolio.json**\n",
    "* id (string) - offer id\n",
    "* offer_type (string) - type of offer ie BOGO, discount, informational\n",
    "* difficulty (int) - minimum required spend to complete an offer\n",
    "* reward (int) - reward given for completing an offer\n",
    "* duration (int) - time for offer to be open, in days\n",
    "* channels (list of strings)\n",
    "\n",
    "**profile.json**\n",
    "* age (int) - age of the customer \n",
    "* became_member_on (int) - date when customer created an app account\n",
    "* gender (str) - gender of the customer (note some entries contain 'O' for other rather than M or F)\n",
    "* id (str) - customer id\n",
    "* income (float) - customer's income\n",
    "\n",
    "**transcript.json**\n",
    "* event (str) - record description (ie transaction, offer received, offer viewed, etc.)\n",
    "* person (str) - customer id\n",
    "* time (int) - time in hours since start of test. The data begins at time t=0\n",
    "* value - (dict of strings) - either an offer id or transaction amount depending on the record\n",
    "\n",
    "**Note:** If you are using the workspace, you will need to go to the terminal and run the command `conda update pandas` before reading in the files. This is because the version of pandas in the workspace cannot read in the transcript.json file correctly, but the newest version of pandas can. You can access the termnal from the orange icon in the top left of this notebook.  \n",
    "\n",
    "You can see how to access the terminal and how the install works using the two images below.  First you need to access the terminal:\n",
    "\n",
    "<img src=\"pic1.png\"/>\n",
    "\n",
    "Then you will want to run the above command:\n",
    "\n",
    "<img src=\"pic2.png\"/>\n",
    "\n",
    "Finally, when you enter back into the notebook (use the jupyter icon again), you should be able to run the below cell without any errors."
   ]
  },
  {
   "cell_type": "code",
   "execution_count": 1,
   "metadata": {},
   "outputs": [],
   "source": [
    "import pandas as pd\n",
    "import numpy as np\n",
    "import math\n",
    "import json\n",
    "from matplotlib import pyplot as plt\n",
    "from sklearn.preprocessing import MinMaxScaler\n",
    "from sklearn.model_selection import train_test_split\n",
    "from sklearn.linear_model import LogisticRegression\n",
    "from sklearn.ensemble import RandomForestClassifier\n",
    "from sklearn.neighbors import KNeighborsClassifier\n",
    "from sklearn.model_selection import GridSearchCV\n",
    "from sklearn.naive_bayes import GaussianNB\n",
    "from sklearn.metrics import f1_score\n",
    "import pickle\n",
    "% matplotlib inline"
   ]
  },
  {
   "cell_type": "code",
   "execution_count": 2,
   "metadata": {},
   "outputs": [],
   "source": [
    "# read in the json files\n",
    "portfolio = pd.read_json('data/portfolio.json', orient='records', lines=True)\n",
    "profile = pd.read_json('data/profile.json', orient='records', lines=True)\n",
    "transcript = pd.read_json('data/transcript.json', orient='records', lines=True)"
   ]
  },
  {
   "cell_type": "markdown",
   "metadata": {},
   "source": [
    "**Portfolio data series EDA and pre-processing steps:**\n",
    "\n",
    "1. Portfolio is a small dataseries with only 10 rows and 6 columns and easy to visualize.\n",
    "\n",
    "2. Fields 'channels' and 'offer_type' have categorical entries, will use one hot encoding for these fields. Pandas' get_dummy() is used to encode offer_type, but 'channels' field stores lists, so a lambda function is implemented for one hot encoding.\n",
    "\n",
    "3. Delete the 'channels' field after encoding\n",
    "\n",
    "4. Rename 'id' field to 'offer_id'\n",
    "\n"
   ]
  },
  {
   "cell_type": "code",
   "execution_count": 3,
   "metadata": {},
   "outputs": [
    {
     "data": {
      "text/html": [
       "<div>\n",
       "<style scoped>\n",
       "    .dataframe tbody tr th:only-of-type {\n",
       "        vertical-align: middle;\n",
       "    }\n",
       "\n",
       "    .dataframe tbody tr th {\n",
       "        vertical-align: top;\n",
       "    }\n",
       "\n",
       "    .dataframe thead th {\n",
       "        text-align: right;\n",
       "    }\n",
       "</style>\n",
       "<table border=\"1\" class=\"dataframe\">\n",
       "  <thead>\n",
       "    <tr style=\"text-align: right;\">\n",
       "      <th></th>\n",
       "      <th>channels</th>\n",
       "      <th>difficulty</th>\n",
       "      <th>duration</th>\n",
       "      <th>id</th>\n",
       "      <th>offer_type</th>\n",
       "      <th>reward</th>\n",
       "    </tr>\n",
       "  </thead>\n",
       "  <tbody>\n",
       "    <tr>\n",
       "      <th>0</th>\n",
       "      <td>[email, mobile, social]</td>\n",
       "      <td>10</td>\n",
       "      <td>7</td>\n",
       "      <td>ae264e3637204a6fb9bb56bc8210ddfd</td>\n",
       "      <td>bogo</td>\n",
       "      <td>10</td>\n",
       "    </tr>\n",
       "    <tr>\n",
       "      <th>1</th>\n",
       "      <td>[web, email, mobile, social]</td>\n",
       "      <td>10</td>\n",
       "      <td>5</td>\n",
       "      <td>4d5c57ea9a6940dd891ad53e9dbe8da0</td>\n",
       "      <td>bogo</td>\n",
       "      <td>10</td>\n",
       "    </tr>\n",
       "    <tr>\n",
       "      <th>2</th>\n",
       "      <td>[web, email, mobile]</td>\n",
       "      <td>0</td>\n",
       "      <td>4</td>\n",
       "      <td>3f207df678b143eea3cee63160fa8bed</td>\n",
       "      <td>informational</td>\n",
       "      <td>0</td>\n",
       "    </tr>\n",
       "    <tr>\n",
       "      <th>3</th>\n",
       "      <td>[web, email, mobile]</td>\n",
       "      <td>5</td>\n",
       "      <td>7</td>\n",
       "      <td>9b98b8c7a33c4b65b9aebfe6a799e6d9</td>\n",
       "      <td>bogo</td>\n",
       "      <td>5</td>\n",
       "    </tr>\n",
       "    <tr>\n",
       "      <th>4</th>\n",
       "      <td>[web, email]</td>\n",
       "      <td>20</td>\n",
       "      <td>10</td>\n",
       "      <td>0b1e1539f2cc45b7b9fa7c272da2e1d7</td>\n",
       "      <td>discount</td>\n",
       "      <td>5</td>\n",
       "    </tr>\n",
       "    <tr>\n",
       "      <th>5</th>\n",
       "      <td>[web, email, mobile, social]</td>\n",
       "      <td>7</td>\n",
       "      <td>7</td>\n",
       "      <td>2298d6c36e964ae4a3e7e9706d1fb8c2</td>\n",
       "      <td>discount</td>\n",
       "      <td>3</td>\n",
       "    </tr>\n",
       "    <tr>\n",
       "      <th>6</th>\n",
       "      <td>[web, email, mobile, social]</td>\n",
       "      <td>10</td>\n",
       "      <td>10</td>\n",
       "      <td>fafdcd668e3743c1bb461111dcafc2a4</td>\n",
       "      <td>discount</td>\n",
       "      <td>2</td>\n",
       "    </tr>\n",
       "    <tr>\n",
       "      <th>7</th>\n",
       "      <td>[email, mobile, social]</td>\n",
       "      <td>0</td>\n",
       "      <td>3</td>\n",
       "      <td>5a8bc65990b245e5a138643cd4eb9837</td>\n",
       "      <td>informational</td>\n",
       "      <td>0</td>\n",
       "    </tr>\n",
       "    <tr>\n",
       "      <th>8</th>\n",
       "      <td>[web, email, mobile, social]</td>\n",
       "      <td>5</td>\n",
       "      <td>5</td>\n",
       "      <td>f19421c1d4aa40978ebb69ca19b0e20d</td>\n",
       "      <td>bogo</td>\n",
       "      <td>5</td>\n",
       "    </tr>\n",
       "    <tr>\n",
       "      <th>9</th>\n",
       "      <td>[web, email, mobile]</td>\n",
       "      <td>10</td>\n",
       "      <td>7</td>\n",
       "      <td>2906b810c7d4411798c6938adc9daaa5</td>\n",
       "      <td>discount</td>\n",
       "      <td>2</td>\n",
       "    </tr>\n",
       "  </tbody>\n",
       "</table>\n",
       "</div>"
      ],
      "text/plain": [
       "                       channels  difficulty  duration  \\\n",
       "0       [email, mobile, social]          10         7   \n",
       "1  [web, email, mobile, social]          10         5   \n",
       "2          [web, email, mobile]           0         4   \n",
       "3          [web, email, mobile]           5         7   \n",
       "4                  [web, email]          20        10   \n",
       "5  [web, email, mobile, social]           7         7   \n",
       "6  [web, email, mobile, social]          10        10   \n",
       "7       [email, mobile, social]           0         3   \n",
       "8  [web, email, mobile, social]           5         5   \n",
       "9          [web, email, mobile]          10         7   \n",
       "\n",
       "                                 id     offer_type  reward  \n",
       "0  ae264e3637204a6fb9bb56bc8210ddfd           bogo      10  \n",
       "1  4d5c57ea9a6940dd891ad53e9dbe8da0           bogo      10  \n",
       "2  3f207df678b143eea3cee63160fa8bed  informational       0  \n",
       "3  9b98b8c7a33c4b65b9aebfe6a799e6d9           bogo       5  \n",
       "4  0b1e1539f2cc45b7b9fa7c272da2e1d7       discount       5  \n",
       "5  2298d6c36e964ae4a3e7e9706d1fb8c2       discount       3  \n",
       "6  fafdcd668e3743c1bb461111dcafc2a4       discount       2  \n",
       "7  5a8bc65990b245e5a138643cd4eb9837  informational       0  \n",
       "8  f19421c1d4aa40978ebb69ca19b0e20d           bogo       5  \n",
       "9  2906b810c7d4411798c6938adc9daaa5       discount       2  "
      ]
     },
     "execution_count": 3,
     "metadata": {},
     "output_type": "execute_result"
    }
   ],
   "source": [
    "portfolio"
   ]
  },
  {
   "cell_type": "code",
   "execution_count": 4,
   "metadata": {},
   "outputs": [
    {
     "data": {
      "text/html": [
       "<div>\n",
       "<style scoped>\n",
       "    .dataframe tbody tr th:only-of-type {\n",
       "        vertical-align: middle;\n",
       "    }\n",
       "\n",
       "    .dataframe tbody tr th {\n",
       "        vertical-align: top;\n",
       "    }\n",
       "\n",
       "    .dataframe thead th {\n",
       "        text-align: right;\n",
       "    }\n",
       "</style>\n",
       "<table border=\"1\" class=\"dataframe\">\n",
       "  <thead>\n",
       "    <tr style=\"text-align: right;\">\n",
       "      <th></th>\n",
       "      <th>offer_id</th>\n",
       "      <th>difficulty</th>\n",
       "      <th>duration</th>\n",
       "      <th>reward</th>\n",
       "      <th>offer_type_bogo</th>\n",
       "      <th>offer_type_discount</th>\n",
       "      <th>offer_type_informational</th>\n",
       "      <th>web</th>\n",
       "      <th>email</th>\n",
       "      <th>mobile</th>\n",
       "      <th>social</th>\n",
       "      <th>offer_type</th>\n",
       "    </tr>\n",
       "  </thead>\n",
       "  <tbody>\n",
       "    <tr>\n",
       "      <th>0</th>\n",
       "      <td>ae264e3637204a6fb9bb56bc8210ddfd</td>\n",
       "      <td>10</td>\n",
       "      <td>168</td>\n",
       "      <td>10</td>\n",
       "      <td>1</td>\n",
       "      <td>0</td>\n",
       "      <td>0</td>\n",
       "      <td>0</td>\n",
       "      <td>1</td>\n",
       "      <td>1</td>\n",
       "      <td>1</td>\n",
       "      <td>bogo</td>\n",
       "    </tr>\n",
       "    <tr>\n",
       "      <th>1</th>\n",
       "      <td>4d5c57ea9a6940dd891ad53e9dbe8da0</td>\n",
       "      <td>10</td>\n",
       "      <td>120</td>\n",
       "      <td>10</td>\n",
       "      <td>1</td>\n",
       "      <td>0</td>\n",
       "      <td>0</td>\n",
       "      <td>1</td>\n",
       "      <td>1</td>\n",
       "      <td>1</td>\n",
       "      <td>1</td>\n",
       "      <td>bogo</td>\n",
       "    </tr>\n",
       "    <tr>\n",
       "      <th>2</th>\n",
       "      <td>3f207df678b143eea3cee63160fa8bed</td>\n",
       "      <td>0</td>\n",
       "      <td>96</td>\n",
       "      <td>0</td>\n",
       "      <td>0</td>\n",
       "      <td>0</td>\n",
       "      <td>1</td>\n",
       "      <td>1</td>\n",
       "      <td>1</td>\n",
       "      <td>1</td>\n",
       "      <td>0</td>\n",
       "      <td>informational</td>\n",
       "    </tr>\n",
       "    <tr>\n",
       "      <th>3</th>\n",
       "      <td>9b98b8c7a33c4b65b9aebfe6a799e6d9</td>\n",
       "      <td>5</td>\n",
       "      <td>168</td>\n",
       "      <td>5</td>\n",
       "      <td>1</td>\n",
       "      <td>0</td>\n",
       "      <td>0</td>\n",
       "      <td>1</td>\n",
       "      <td>1</td>\n",
       "      <td>1</td>\n",
       "      <td>0</td>\n",
       "      <td>bogo</td>\n",
       "    </tr>\n",
       "    <tr>\n",
       "      <th>4</th>\n",
       "      <td>0b1e1539f2cc45b7b9fa7c272da2e1d7</td>\n",
       "      <td>20</td>\n",
       "      <td>240</td>\n",
       "      <td>5</td>\n",
       "      <td>0</td>\n",
       "      <td>1</td>\n",
       "      <td>0</td>\n",
       "      <td>1</td>\n",
       "      <td>1</td>\n",
       "      <td>0</td>\n",
       "      <td>0</td>\n",
       "      <td>discount</td>\n",
       "    </tr>\n",
       "    <tr>\n",
       "      <th>5</th>\n",
       "      <td>2298d6c36e964ae4a3e7e9706d1fb8c2</td>\n",
       "      <td>7</td>\n",
       "      <td>168</td>\n",
       "      <td>3</td>\n",
       "      <td>0</td>\n",
       "      <td>1</td>\n",
       "      <td>0</td>\n",
       "      <td>1</td>\n",
       "      <td>1</td>\n",
       "      <td>1</td>\n",
       "      <td>1</td>\n",
       "      <td>discount</td>\n",
       "    </tr>\n",
       "    <tr>\n",
       "      <th>6</th>\n",
       "      <td>fafdcd668e3743c1bb461111dcafc2a4</td>\n",
       "      <td>10</td>\n",
       "      <td>240</td>\n",
       "      <td>2</td>\n",
       "      <td>0</td>\n",
       "      <td>1</td>\n",
       "      <td>0</td>\n",
       "      <td>1</td>\n",
       "      <td>1</td>\n",
       "      <td>1</td>\n",
       "      <td>1</td>\n",
       "      <td>discount</td>\n",
       "    </tr>\n",
       "    <tr>\n",
       "      <th>7</th>\n",
       "      <td>5a8bc65990b245e5a138643cd4eb9837</td>\n",
       "      <td>0</td>\n",
       "      <td>72</td>\n",
       "      <td>0</td>\n",
       "      <td>0</td>\n",
       "      <td>0</td>\n",
       "      <td>1</td>\n",
       "      <td>0</td>\n",
       "      <td>1</td>\n",
       "      <td>1</td>\n",
       "      <td>1</td>\n",
       "      <td>informational</td>\n",
       "    </tr>\n",
       "    <tr>\n",
       "      <th>8</th>\n",
       "      <td>f19421c1d4aa40978ebb69ca19b0e20d</td>\n",
       "      <td>5</td>\n",
       "      <td>120</td>\n",
       "      <td>5</td>\n",
       "      <td>1</td>\n",
       "      <td>0</td>\n",
       "      <td>0</td>\n",
       "      <td>1</td>\n",
       "      <td>1</td>\n",
       "      <td>1</td>\n",
       "      <td>1</td>\n",
       "      <td>bogo</td>\n",
       "    </tr>\n",
       "    <tr>\n",
       "      <th>9</th>\n",
       "      <td>2906b810c7d4411798c6938adc9daaa5</td>\n",
       "      <td>10</td>\n",
       "      <td>168</td>\n",
       "      <td>2</td>\n",
       "      <td>0</td>\n",
       "      <td>1</td>\n",
       "      <td>0</td>\n",
       "      <td>1</td>\n",
       "      <td>1</td>\n",
       "      <td>1</td>\n",
       "      <td>0</td>\n",
       "      <td>discount</td>\n",
       "    </tr>\n",
       "  </tbody>\n",
       "</table>\n",
       "</div>"
      ],
      "text/plain": [
       "                           offer_id  difficulty  duration  reward  \\\n",
       "0  ae264e3637204a6fb9bb56bc8210ddfd          10       168      10   \n",
       "1  4d5c57ea9a6940dd891ad53e9dbe8da0          10       120      10   \n",
       "2  3f207df678b143eea3cee63160fa8bed           0        96       0   \n",
       "3  9b98b8c7a33c4b65b9aebfe6a799e6d9           5       168       5   \n",
       "4  0b1e1539f2cc45b7b9fa7c272da2e1d7          20       240       5   \n",
       "5  2298d6c36e964ae4a3e7e9706d1fb8c2           7       168       3   \n",
       "6  fafdcd668e3743c1bb461111dcafc2a4          10       240       2   \n",
       "7  5a8bc65990b245e5a138643cd4eb9837           0        72       0   \n",
       "8  f19421c1d4aa40978ebb69ca19b0e20d           5       120       5   \n",
       "9  2906b810c7d4411798c6938adc9daaa5          10       168       2   \n",
       "\n",
       "   offer_type_bogo  offer_type_discount  offer_type_informational  web  email  \\\n",
       "0                1                    0                         0    0      1   \n",
       "1                1                    0                         0    1      1   \n",
       "2                0                    0                         1    1      1   \n",
       "3                1                    0                         0    1      1   \n",
       "4                0                    1                         0    1      1   \n",
       "5                0                    1                         0    1      1   \n",
       "6                0                    1                         0    1      1   \n",
       "7                0                    0                         1    0      1   \n",
       "8                1                    0                         0    1      1   \n",
       "9                0                    1                         0    1      1   \n",
       "\n",
       "   mobile  social     offer_type  \n",
       "0       1       1           bogo  \n",
       "1       1       1           bogo  \n",
       "2       1       0  informational  \n",
       "3       1       0           bogo  \n",
       "4       0       0       discount  \n",
       "5       1       1       discount  \n",
       "6       1       1       discount  \n",
       "7       1       1  informational  \n",
       "8       1       1           bogo  \n",
       "9       1       0       discount  "
      ]
     },
     "execution_count": 4,
     "metadata": {},
     "output_type": "execute_result"
    }
   ],
   "source": [
    "#one hot encoding\n",
    "offer_cols = pd.get_dummies(portfolio[['offer_type']]) \n",
    "portfolio = pd.concat([portfolio, offer_cols], axis=1)\n",
    "\n",
    "#parse channels list and create individual binary column for each channel\n",
    "portfolio['web'] = portfolio['channels'].apply(lambda x: 1 if 'web' in x else 0)\n",
    "portfolio['email'] = portfolio['channels'].apply(lambda x: 1 if 'email' in x else 0)\n",
    "portfolio['mobile'] = portfolio['channels'].apply(lambda x: 1 if 'mobile' in x else 0)\n",
    "portfolio['social'] = portfolio['channels'].apply(lambda x: 1 if 'social' in x else 0)\n",
    "\n",
    "#final cleal up\n",
    "portfolio.drop(['channels'], inplace=True, axis=1)  \n",
    "portfolio.rename(columns = {'id':'offer_id'}, inplace = True)\n",
    "portfolio['duration'] = portfolio['duration']*24\n",
    "portfolio= portfolio[['offer_id','difficulty', 'duration',  'reward', 'offer_type_bogo',\n",
    "       'offer_type_discount', 'offer_type_informational', 'web', 'email',\n",
    "       'mobile', 'social', 'offer_type']]\n",
    "portfolio\n"
   ]
  },
  {
   "cell_type": "markdown",
   "metadata": {},
   "source": [
    "**Profile data series EDA and pre-processing**\n",
    "\n",
    "*Profile series needs the following data preparation steps*\n",
    "\n",
    "1. The field 'age' has a maximum entry of 118, which is likely incorrect or a placeholder for NaN\n",
    "2. Recode 'gender' with Male as 0 and Female as 1, treat 'O' as missing value\n",
    "3. Calculate the duration of membership by calculating the difference between current date and 'became_member_on' field\n",
    "4. Rename 'id' field to 'customer_id'"
   ]
  },
  {
   "cell_type": "code",
   "execution_count": 5,
   "metadata": {},
   "outputs": [
    {
     "data": {
      "text/html": [
       "<div>\n",
       "<style scoped>\n",
       "    .dataframe tbody tr th:only-of-type {\n",
       "        vertical-align: middle;\n",
       "    }\n",
       "\n",
       "    .dataframe tbody tr th {\n",
       "        vertical-align: top;\n",
       "    }\n",
       "\n",
       "    .dataframe thead th {\n",
       "        text-align: right;\n",
       "    }\n",
       "</style>\n",
       "<table border=\"1\" class=\"dataframe\">\n",
       "  <thead>\n",
       "    <tr style=\"text-align: right;\">\n",
       "      <th></th>\n",
       "      <th>age</th>\n",
       "      <th>became_member_on</th>\n",
       "      <th>gender</th>\n",
       "      <th>id</th>\n",
       "      <th>income</th>\n",
       "    </tr>\n",
       "  </thead>\n",
       "  <tbody>\n",
       "    <tr>\n",
       "      <th>0</th>\n",
       "      <td>118</td>\n",
       "      <td>20170212</td>\n",
       "      <td>None</td>\n",
       "      <td>68be06ca386d4c31939f3a4f0e3dd783</td>\n",
       "      <td>NaN</td>\n",
       "    </tr>\n",
       "    <tr>\n",
       "      <th>1</th>\n",
       "      <td>55</td>\n",
       "      <td>20170715</td>\n",
       "      <td>F</td>\n",
       "      <td>0610b486422d4921ae7d2bf64640c50b</td>\n",
       "      <td>112000.0</td>\n",
       "    </tr>\n",
       "    <tr>\n",
       "      <th>2</th>\n",
       "      <td>118</td>\n",
       "      <td>20180712</td>\n",
       "      <td>None</td>\n",
       "      <td>38fe809add3b4fcf9315a9694bb96ff5</td>\n",
       "      <td>NaN</td>\n",
       "    </tr>\n",
       "    <tr>\n",
       "      <th>3</th>\n",
       "      <td>75</td>\n",
       "      <td>20170509</td>\n",
       "      <td>F</td>\n",
       "      <td>78afa995795e4d85b5d9ceeca43f5fef</td>\n",
       "      <td>100000.0</td>\n",
       "    </tr>\n",
       "    <tr>\n",
       "      <th>4</th>\n",
       "      <td>118</td>\n",
       "      <td>20170804</td>\n",
       "      <td>None</td>\n",
       "      <td>a03223e636434f42ac4c3df47e8bac43</td>\n",
       "      <td>NaN</td>\n",
       "    </tr>\n",
       "  </tbody>\n",
       "</table>\n",
       "</div>"
      ],
      "text/plain": [
       "   age  became_member_on gender                                id    income\n",
       "0  118          20170212   None  68be06ca386d4c31939f3a4f0e3dd783       NaN\n",
       "1   55          20170715      F  0610b486422d4921ae7d2bf64640c50b  112000.0\n",
       "2  118          20180712   None  38fe809add3b4fcf9315a9694bb96ff5       NaN\n",
       "3   75          20170509      F  78afa995795e4d85b5d9ceeca43f5fef  100000.0\n",
       "4  118          20170804   None  a03223e636434f42ac4c3df47e8bac43       NaN"
      ]
     },
     "execution_count": 5,
     "metadata": {},
     "output_type": "execute_result"
    }
   ],
   "source": [
    "profile.head()"
   ]
  },
  {
   "cell_type": "code",
   "execution_count": 6,
   "metadata": {},
   "outputs": [
    {
     "data": {
      "text/html": [
       "<div>\n",
       "<style scoped>\n",
       "    .dataframe tbody tr th:only-of-type {\n",
       "        vertical-align: middle;\n",
       "    }\n",
       "\n",
       "    .dataframe tbody tr th {\n",
       "        vertical-align: top;\n",
       "    }\n",
       "\n",
       "    .dataframe thead th {\n",
       "        text-align: right;\n",
       "    }\n",
       "</style>\n",
       "<table border=\"1\" class=\"dataframe\">\n",
       "  <thead>\n",
       "    <tr style=\"text-align: right;\">\n",
       "      <th></th>\n",
       "      <th>age</th>\n",
       "      <th>became_member_on</th>\n",
       "      <th>income</th>\n",
       "    </tr>\n",
       "  </thead>\n",
       "  <tbody>\n",
       "    <tr>\n",
       "      <th>count</th>\n",
       "      <td>17000.000000</td>\n",
       "      <td>1.700000e+04</td>\n",
       "      <td>14825.000000</td>\n",
       "    </tr>\n",
       "    <tr>\n",
       "      <th>mean</th>\n",
       "      <td>62.531412</td>\n",
       "      <td>2.016703e+07</td>\n",
       "      <td>65404.991568</td>\n",
       "    </tr>\n",
       "    <tr>\n",
       "      <th>std</th>\n",
       "      <td>26.738580</td>\n",
       "      <td>1.167750e+04</td>\n",
       "      <td>21598.299410</td>\n",
       "    </tr>\n",
       "    <tr>\n",
       "      <th>min</th>\n",
       "      <td>18.000000</td>\n",
       "      <td>2.013073e+07</td>\n",
       "      <td>30000.000000</td>\n",
       "    </tr>\n",
       "    <tr>\n",
       "      <th>25%</th>\n",
       "      <td>45.000000</td>\n",
       "      <td>2.016053e+07</td>\n",
       "      <td>49000.000000</td>\n",
       "    </tr>\n",
       "    <tr>\n",
       "      <th>50%</th>\n",
       "      <td>58.000000</td>\n",
       "      <td>2.017080e+07</td>\n",
       "      <td>64000.000000</td>\n",
       "    </tr>\n",
       "    <tr>\n",
       "      <th>75%</th>\n",
       "      <td>73.000000</td>\n",
       "      <td>2.017123e+07</td>\n",
       "      <td>80000.000000</td>\n",
       "    </tr>\n",
       "    <tr>\n",
       "      <th>max</th>\n",
       "      <td>118.000000</td>\n",
       "      <td>2.018073e+07</td>\n",
       "      <td>120000.000000</td>\n",
       "    </tr>\n",
       "  </tbody>\n",
       "</table>\n",
       "</div>"
      ],
      "text/plain": [
       "                age  became_member_on         income\n",
       "count  17000.000000      1.700000e+04   14825.000000\n",
       "mean      62.531412      2.016703e+07   65404.991568\n",
       "std       26.738580      1.167750e+04   21598.299410\n",
       "min       18.000000      2.013073e+07   30000.000000\n",
       "25%       45.000000      2.016053e+07   49000.000000\n",
       "50%       58.000000      2.017080e+07   64000.000000\n",
       "75%       73.000000      2.017123e+07   80000.000000\n",
       "max      118.000000      2.018073e+07  120000.000000"
      ]
     },
     "execution_count": 6,
     "metadata": {},
     "output_type": "execute_result"
    }
   ],
   "source": [
    "profile.describe()"
   ]
  },
  {
   "cell_type": "code",
   "execution_count": 7,
   "metadata": {},
   "outputs": [
    {
     "name": "stdout",
     "output_type": "stream",
     "text": [
      "<class 'pandas.core.frame.DataFrame'>\n",
      "RangeIndex: 17000 entries, 0 to 16999\n",
      "Data columns (total 5 columns):\n",
      "age                 17000 non-null int64\n",
      "became_member_on    17000 non-null int64\n",
      "gender              14825 non-null object\n",
      "id                  17000 non-null object\n",
      "income              14825 non-null float64\n",
      "dtypes: float64(1), int64(2), object(2)\n",
      "memory usage: 664.1+ KB\n"
     ]
    }
   ],
   "source": [
    "profile.info()"
   ]
  },
  {
   "cell_type": "code",
   "execution_count": 8,
   "metadata": {},
   "outputs": [
    {
     "data": {
      "text/plain": [
       "array([None, 'F', 'M', 'O'], dtype=object)"
      ]
     },
     "execution_count": 8,
     "metadata": {},
     "output_type": "execute_result"
    }
   ],
   "source": [
    "profile['gender'].unique()"
   ]
  },
  {
   "cell_type": "code",
   "execution_count": 9,
   "metadata": {},
   "outputs": [
    {
     "name": "stdout",
     "output_type": "stream",
     "text": [
      "<class 'pandas.core.frame.DataFrame'>\n",
      "RangeIndex: 14825 entries, 0 to 14824\n",
      "Data columns (total 7 columns):\n",
      "cus_index              14825 non-null int64\n",
      "age                    14825 non-null float64\n",
      "became_member_on       14825 non-null int64\n",
      "gender                 14825 non-null float64\n",
      "customer_id            14825 non-null object\n",
      "income                 14825 non-null float64\n",
      "membership_duration    14825 non-null int64\n",
      "dtypes: float64(3), int64(3), object(1)\n",
      "memory usage: 810.8+ KB\n",
      "          cus_index           age  became_member_on        gender  \\\n",
      "count  14825.000000  14825.000000      1.482500e+04  14825.000000   \n",
      "mean    8496.961079     54.393524      2.016689e+07      0.442024   \n",
      "std     4896.261043     17.383705      1.188565e+04      0.524650   \n",
      "min        1.000000     18.000000      2.013073e+07      0.000000   \n",
      "25%     4273.000000     42.000000      2.016052e+07      0.000000   \n",
      "50%     8490.000000     55.000000      2.017080e+07      0.000000   \n",
      "75%    12733.000000     66.000000      2.017123e+07      1.000000   \n",
      "max    16999.000000    101.000000      2.018073e+07      2.000000   \n",
      "\n",
      "              income  membership_duration  \n",
      "count   14825.000000         14825.000000  \n",
      "mean    65404.991568          1124.478988  \n",
      "std     21598.299410           419.205158  \n",
      "min     30000.000000           602.000000  \n",
      "25%     49000.000000           810.000000  \n",
      "50%     64000.000000           960.000000  \n",
      "75%     80000.000000          1399.000000  \n",
      "max    120000.000000          2425.000000   \n",
      " None\n"
     ]
    }
   ],
   "source": [
    "#profile clean up\n",
    "profile['age']=profile['age'].apply(lambda x: np.nan if x== 118 else x )\n",
    "profile['gender']=profile['gender'].apply(lambda x: None if x=='O' else (0 if x=='M' else 1))\n",
    "profile['gender'].fillna(2,inplace=True)\n",
    "profile.dropna(inplace=True)\n",
    "profile['membership_duration'] = (pd.datetime.now() - pd.to_datetime(profile['became_member_on'], format='%Y%m%d')).dt.days\n",
    "profile.drop(['became_member_on'], axis=1)\n",
    "profile=profile.reset_index()\n",
    "profile.rename(columns = {'id':'customer_id', 'index': 'cus_index'}, inplace = True)\n",
    "print(profile.describe(), '\\n' ,profile.info())"
   ]
  },
  {
   "cell_type": "markdown",
   "metadata": {},
   "source": [
    "**Transcript table data preparation**\n",
    "\n",
    "*Transcript table data preparation is a multi-step process. In this section we will focus on the section that deals with offer related events and leave out any sale transactions for later.*\n",
    "\n",
    "In the first step we parse the value column and create two new columns to populate the offer id if the event is offer related and the transaction amount if the event is a sale transaction and then drop the value column."
   ]
  },
  {
   "cell_type": "code",
   "execution_count": 10,
   "metadata": {
    "scrolled": true
   },
   "outputs": [
    {
     "data": {
      "text/html": [
       "<div>\n",
       "<style scoped>\n",
       "    .dataframe tbody tr th:only-of-type {\n",
       "        vertical-align: middle;\n",
       "    }\n",
       "\n",
       "    .dataframe tbody tr th {\n",
       "        vertical-align: top;\n",
       "    }\n",
       "\n",
       "    .dataframe thead th {\n",
       "        text-align: right;\n",
       "    }\n",
       "</style>\n",
       "<table border=\"1\" class=\"dataframe\">\n",
       "  <thead>\n",
       "    <tr style=\"text-align: right;\">\n",
       "      <th></th>\n",
       "      <th>event</th>\n",
       "      <th>person</th>\n",
       "      <th>time</th>\n",
       "      <th>sale_amount</th>\n",
       "      <th>offer_id</th>\n",
       "    </tr>\n",
       "  </thead>\n",
       "  <tbody>\n",
       "    <tr>\n",
       "      <th>0</th>\n",
       "      <td>offer received</td>\n",
       "      <td>78afa995795e4d85b5d9ceeca43f5fef</td>\n",
       "      <td>0</td>\n",
       "      <td>NaN</td>\n",
       "      <td>9b98b8c7a33c4b65b9aebfe6a799e6d9</td>\n",
       "    </tr>\n",
       "    <tr>\n",
       "      <th>1</th>\n",
       "      <td>offer received</td>\n",
       "      <td>a03223e636434f42ac4c3df47e8bac43</td>\n",
       "      <td>0</td>\n",
       "      <td>NaN</td>\n",
       "      <td>0b1e1539f2cc45b7b9fa7c272da2e1d7</td>\n",
       "    </tr>\n",
       "    <tr>\n",
       "      <th>2</th>\n",
       "      <td>offer received</td>\n",
       "      <td>e2127556f4f64592b11af22de27a7932</td>\n",
       "      <td>0</td>\n",
       "      <td>NaN</td>\n",
       "      <td>2906b810c7d4411798c6938adc9daaa5</td>\n",
       "    </tr>\n",
       "    <tr>\n",
       "      <th>3</th>\n",
       "      <td>offer received</td>\n",
       "      <td>8ec6ce2a7e7949b1bf142def7d0e0586</td>\n",
       "      <td>0</td>\n",
       "      <td>NaN</td>\n",
       "      <td>fafdcd668e3743c1bb461111dcafc2a4</td>\n",
       "    </tr>\n",
       "    <tr>\n",
       "      <th>4</th>\n",
       "      <td>offer received</td>\n",
       "      <td>68617ca6246f4fbc85e91a2a49552598</td>\n",
       "      <td>0</td>\n",
       "      <td>NaN</td>\n",
       "      <td>4d5c57ea9a6940dd891ad53e9dbe8da0</td>\n",
       "    </tr>\n",
       "  </tbody>\n",
       "</table>\n",
       "</div>"
      ],
      "text/plain": [
       "            event                            person  time  sale_amount  \\\n",
       "0  offer received  78afa995795e4d85b5d9ceeca43f5fef     0          NaN   \n",
       "1  offer received  a03223e636434f42ac4c3df47e8bac43     0          NaN   \n",
       "2  offer received  e2127556f4f64592b11af22de27a7932     0          NaN   \n",
       "3  offer received  8ec6ce2a7e7949b1bf142def7d0e0586     0          NaN   \n",
       "4  offer received  68617ca6246f4fbc85e91a2a49552598     0          NaN   \n",
       "\n",
       "                           offer_id  \n",
       "0  9b98b8c7a33c4b65b9aebfe6a799e6d9  \n",
       "1  0b1e1539f2cc45b7b9fa7c272da2e1d7  \n",
       "2  2906b810c7d4411798c6938adc9daaa5  \n",
       "3  fafdcd668e3743c1bb461111dcafc2a4  \n",
       "4  4d5c57ea9a6940dd891ad53e9dbe8da0  "
      ]
     },
     "execution_count": 10,
     "metadata": {},
     "output_type": "execute_result"
    }
   ],
   "source": [
    "#transcript: parse value table to separate out sale transaction from offer events\n",
    "transcript['sale_amount']=transcript['value'].apply(lambda x: x['amount'] if 'amount' in x.keys() else None)\n",
    "transcript['offer_id']=transcript['value'].apply(lambda x: x['offer id'] if 'offer id' in x.keys()                                                 else (x['offer_id'] if 'offer_id' in x.keys() else None))\n",
    "transcript.drop(['value'], axis=1, inplace=True)\n",
    "transcript.head()"
   ]
  },
  {
   "cell_type": "markdown",
   "metadata": {},
   "source": [
    "In the next code cell we perform the following tasks\n",
    "1. Create a new dataframe called 'offers' by only selecting rows from the transcript tables that do not correspond to sale transactions\n",
    "2. Sort them by customer_if, offer_id and receive time.\n",
    "3. Assign unique ID called UID for each offer received and merge the view_time and complete_time info to the corresponding UID\n",
    "4. The resulting table has a UID and corresponding customerif, offer id and receive time, view time and complete time"
   ]
  },
  {
   "cell_type": "code",
   "execution_count": 11,
   "metadata": {},
   "outputs": [
    {
     "data": {
      "text/plain": [
       "76755"
      ]
     },
     "execution_count": 11,
     "metadata": {},
     "output_type": "execute_result"
    }
   ],
   "source": [
    "#create new offers table to hold all offer related records from transcript \n",
    "offers=transcript[transcript['event']!=\"transaction\"]\n",
    "offers=offers.rename(columns = {'person':'customer_id'})\n",
    "offers=offers.sort_values(by=['customer_id','offer_id','time']) # sort by customer, offer and time so we can assign UID later\n",
    "offers=offers[['customer_id','offer_id','time','event']]\n",
    "offers.reset_index(drop=True, inplace=True)\n",
    "\n",
    "#receive table to hold all offer receipts, create a UID each offer received to merge with other entries\n",
    "receive=offers[offers['event']==\"offer received\"]\n",
    "receive=receive.reset_index(drop=True).reset_index()\n",
    "receive =receive.rename(columns = {'index':'UID'})\n",
    "\n",
    "#merge offers ad receive and backfill forward ffill, now all entries have accurate UIDs that can be used for merging\n",
    "offers=pd.merge(offers, receive, how='left',on=['customer_id', 'offer_id', 'time', 'event'])\n",
    "offers['UID'].fillna(method='ffill', inplace=True)\n",
    "\n",
    "#view and complete table created for all UIDs\n",
    "view=offers[offers['event']=='offer viewed']\n",
    "view=view.rename(columns = {'time':'view_time'})\n",
    "complete=offers[offers['event']=='offer completed']\n",
    "complete=complete.rename(columns = {'time':'complete_time'})\n",
    "offers=offers.drop(['event'], axis=1)\n",
    "view = view.drop(['event'], axis=1)\n",
    "complete = complete.drop(['event'], axis=1)\n",
    "\n",
    "#offer tables now created by merging  receive, view and complete. UID field ensures correct match\n",
    "offers=pd.merge(receive, view, how='left',on=['customer_id', 'offer_id', 'UID'])\n",
    "offers=pd.merge(offers, complete, how='left',on=['customer_id', 'offer_id', 'UID'])\n",
    "offers=offers.rename(columns = {'time':'receive_time'})\n",
    "offers.shape[0]"
   ]
  },
  {
   "cell_type": "markdown",
   "metadata": {},
   "source": [
    "In the next section of the code we merge the the offers table with profile and porrtfolio tables. We will use inner join here, this will result in fewer rows because we have dropped nulls and incorrect values in the profile table. The number of rows dropped from 76755 to 66021.\n",
    "\n",
    "We also add columns to identify is an offer is viewed and if an offer is completed"
   ]
  },
  {
   "cell_type": "code",
   "execution_count": 12,
   "metadata": {},
   "outputs": [
    {
     "data": {
      "text/plain": [
       "66945"
      ]
     },
     "execution_count": 12,
     "metadata": {},
     "output_type": "execute_result"
    }
   ],
   "source": [
    "#merge offers table with profile and then with portfolio\n",
    "offers=pd.merge(offers, profile, how='inner',on=['customer_id'])\n",
    "offers=pd.merge(offers, portfolio, how='left',on=['offer_id'])\n",
    "offers['expire_time']=offers['receive_time'] + offers['duration'] # expire time to know when an offer expires\n",
    "\n",
    "\n",
    "\n",
    "offers['viewed'] = offers.apply(\n",
    "    lambda row: 0 if (np.isnan(row['view_time'])) or \n",
    "                      ((np.isnan(row['complete_time']) ==False) and (row['view_time']> row['complete_time'])) else 1,\n",
    "    axis=1\n",
    ")\n",
    "\n",
    "offers['completed'] = offers.apply(\n",
    "    lambda row: 1 if ((row['viewed']==1) and (np.isnan(row['complete_time'])==False)) else 0,\n",
    "    axis=1\n",
    ")\n",
    "\n",
    "offers['end_time'] = offers.apply(\n",
    "    lambda row: row['complete_time'] if row['completed'] ==1 else (row['expire_time'] if row['expire_time']<=714 else 714) ,\n",
    "    axis=1\n",
    ")\n",
    "\n",
    "offers.loc[(offers['view_time']>offers['expire_time']) & (offers['viewed']==1), 'viewed'] =0\n",
    "offers.shape[0]"
   ]
  },
  {
   "cell_type": "markdown",
   "metadata": {},
   "source": [
    "# Data Visualization"
   ]
  },
  {
   "cell_type": "markdown",
   "metadata": {},
   "source": [
    "We will start be reviewing historgrams of all the features in the dataset in the first phase of data visualization to understand the data better. We will perform the second phase on visualizations after reviewing the weights of our baseline model."
   ]
  },
  {
   "cell_type": "code",
   "execution_count": 13,
   "metadata": {
    "scrolled": true
   },
   "outputs": [
    {
     "data": {
      "text/plain": [
       "Text(0,0.5,'Frequency')"
      ]
     },
     "execution_count": 13,
     "metadata": {},
     "output_type": "execute_result"
    },
    {
     "data": {
      "image/png": "[encoded data removed]",
      "text/plain": [
       "<matplotlib.figure.Figure at 0x7f2a784d0390>"
      ]
     },
     "metadata": {
      "needs_background": "light"
     },
     "output_type": "display_data"
    }
   ],
   "source": [
    "#Add age_range field\n",
    "offers['age_range']='18-25'\n",
    "offers.loc[(offers['age']>25) & (offers['age']<=35),'age_range']= '26-35'\n",
    "offers.loc[(offers['age']>35) & (offers['age']<=45), 'age_range']= '36-45'\n",
    "offers.loc[(offers['age']>45) & (offers['age']<=55), 'age_range']= '46-55'\n",
    "offers.loc[(offers['age']>55) & (offers['age']<=65), 'age_range']= '56-65'\n",
    "offers.loc[(offers['age']>65) & (offers['age']<=75),'age_range']= '66-75'\n",
    "offers.loc[offers['age']>75, 'age_range']= '>75'\n",
    "\n",
    "#Add gender_M_F field\n",
    "offers['gender_M_F'] = 'Male'\n",
    "offers.loc[offers['gender']==1,'gender_M_F' ]= 'Female'\n",
    "\n",
    "#plot bar chart of age range distribution bar chart with gender stacked on top\n",
    "ax=offers.groupby(['age_range','gender_M_F']).size().unstack().plot(kind='bar',stacked=True, grid=True, \n",
    "                                                                 title='Age and gender distribution')\n",
    "ax.set_xlabel(\"Age range\")\n",
    "ax.set_ylabel(\"Frequency\")\n",
    "\n"
   ]
  },
  {
   "cell_type": "code",
   "execution_count": 14,
   "metadata": {},
   "outputs": [
    {
     "data": {
      "text/plain": [
       "30000.0"
      ]
     },
     "execution_count": 14,
     "metadata": {},
     "output_type": "execute_result"
    }
   ],
   "source": [
    "profile.income.min()"
   ]
  },
  {
   "cell_type": "code",
   "execution_count": 15,
   "metadata": {},
   "outputs": [
    {
     "data": {
      "text/plain": [
       "Text(0.5,0,'Income in USD')"
      ]
     },
     "execution_count": 15,
     "metadata": {},
     "output_type": "execute_result"
    },
    {
     "data": {
      "image/png": "[encoded data removed]",
      "text/plain": [
       "<matplotlib.figure.Figure at 0x7f2a7859dd68>"
      ]
     },
     "metadata": {
      "needs_background": "light"
     },
     "output_type": "display_data"
    }
   ],
   "source": [
    "#ax=offers.hist('income')\n",
    "ax=offers['income'].plot(kind='hist', grid=True, title ='Income distribution')\n",
    "ax.set_xlabel('Income in USD')"
   ]
  },
  {
   "cell_type": "code",
   "execution_count": 16,
   "metadata": {},
   "outputs": [
    {
     "data": {
      "text/plain": [
       "Text(0.5,0,'Membership duration in days')"
      ]
     },
     "execution_count": 16,
     "metadata": {},
     "output_type": "execute_result"
    },
    {
     "data": {
      "image/png": "[encoded data removed]",
      "text/plain": [
       "<matplotlib.figure.Figure at 0x7f2a775f08d0>"
      ]
     },
     "metadata": {
      "needs_background": "light"
     },
     "output_type": "display_data"
    }
   ],
   "source": [
    "ax=offers['membership_duration'].plot(kind='hist', grid=True, title ='Membership duration')\n",
    "ax.set_xlabel('Membership duration in days')"
   ]
  },
  {
   "cell_type": "code",
   "execution_count": 17,
   "metadata": {},
   "outputs": [
    {
     "data": {
      "text/plain": [
       "Text(0,0.5,'Frequency')"
      ]
     },
     "execution_count": 17,
     "metadata": {},
     "output_type": "execute_result"
    },
    {
     "data": {
      "image/png": "[encoded data removed]",
      "text/plain": [
       "<matplotlib.figure.Figure at 0x7f2a775f0f28>"
      ]
     },
     "metadata": {
      "needs_background": "light"
     },
     "output_type": "display_data"
    }
   ],
   "source": [
    "ax=offers.groupby(['offer_type']).agg({'web': 'sum', 'email': 'sum', 'mobile':'sum', \n",
    "                                       'social':'sum'}).plot(kind='bar', grid=True, title='Offer type and channels')\n",
    "ax.set_ylabel('Frequency')\n"
   ]
  },
  {
   "cell_type": "markdown",
   "metadata": {},
   "source": [
    "**Should we include type of offer to predict if an offer will be viewed?**\n",
    "\n",
    "Here we make an assumption that the customer does not know the type of offer until it they view it. Therefore this model does not take into account the type of offer type for predicting whether or not an offer will be viewed, but considers all other features like the demographics and the promotional channels used to advertise etc. \n",
    "\n",
    "Plot below shows the view rate by the offer type and there is not a vast difference in the view rates based on the offer type, so we will stick with the assumption."
   ]
  },
  {
   "cell_type": "code",
   "execution_count": 18,
   "metadata": {},
   "outputs": [
    {
     "data": {
      "text/plain": [
       "Text(0,0.5,'View rate')"
      ]
     },
     "execution_count": 18,
     "metadata": {},
     "output_type": "execute_result"
    },
    {
     "data": {
      "image/png": "[encoded data removed]",
      "text/plain": [
       "<matplotlib.figure.Figure at 0x7f2a778e68d0>"
      ]
     },
     "metadata": {
      "needs_background": "light"
     },
     "output_type": "display_data"
    },
    {
     "data": {
      "image/png": "[encoded data removed]",
      "text/plain": [
       "<matplotlib.figure.Figure at 0x7f2a778e6cf8>"
      ]
     },
     "metadata": {
      "needs_background": "light"
     },
     "output_type": "display_data"
    }
   ],
   "source": [
    "offers_views= offers.groupby(['offer_type']).agg({ 'UID':'count','viewed': 'sum'})\n",
    "offers_views['view_rate']= offers_views['viewed']/offers_views['UID']\n",
    "ax0=offers_views[['UID','viewed']].plot(kind='bar', grid=True, title='View rates by offer type')\n",
    "ax0.set_ylabel('Frequency')\n",
    "plt.figure()\n",
    "ax1=offers_views['view_rate'].plot(kind='bar', grid=True, title='View rates by offer type')\n",
    "ax1.set_ylabel('View rate')"
   ]
  },
  {
   "cell_type": "markdown",
   "metadata": {},
   "source": [
    "**Data preparation - phase 2**\n",
    "\n",
    "The this step we prepare the sale transaction data"
   ]
  },
  {
   "cell_type": "code",
   "execution_count": 19,
   "metadata": {},
   "outputs": [
    {
     "data": {
      "text/plain": [
       "574810"
      ]
     },
     "execution_count": 19,
     "metadata": {},
     "output_type": "execute_result"
    }
   ],
   "source": [
    "sales=transcript[transcript['event']=='transaction']\n",
    "sales=sales.reset_index(drop=True).reset_index()\n",
    "sales=sales.drop(['offer_id'],axis=1)\n",
    "sales=sales.rename(columns={'index':'sale_id', 'person':'customer_id', 'time':'sale_time'})\n",
    "sales=pd.merge(offers[['UID','view_time', 'end_time', 'offer_id', 'customer_id', 'viewed']], \n",
    "               sales, how='left', on=['customer_id'])\n",
    "sales.shape[0]"
   ]
  },
  {
   "cell_type": "markdown",
   "metadata": {},
   "source": [
    "We now plot the sale amount for each customer ID. We also plot summary stats (min, max and mean) sale for each customer.\n",
    "We notice that 359 customers have made one time transaction >$200."
   ]
  },
  {
   "cell_type": "code",
   "execution_count": 20,
   "metadata": {},
   "outputs": [
    {
     "name": "stdout",
     "output_type": "stream",
     "text": [
      "No. of customer who made sale transactions> $200 =  363\n"
     ]
    },
    {
     "data": {
      "image/png": "[encoded data removed]",
      "text/plain": [
       "<matplotlib.figure.Figure at 0x7f2a779e24e0>"
      ]
     },
     "metadata": {
      "needs_background": "light"
     },
     "output_type": "display_data"
    },
    {
     "data": {
      "image/png": "[encoded data removed]",
      "text/plain": [
       "<matplotlib.figure.Figure at 0x7f2a77a08c18>"
      ]
     },
     "metadata": {
      "needs_background": "light"
     },
     "output_type": "display_data"
    }
   ],
   "source": [
    "ax=sales.plot(x='sale_id', y='sale_amount', kind='scatter', title ='Sale amount chart', grid=True)\n",
    "ax.set_ylabel('Sale amount')\n",
    "sales_groupby=sales.groupby(['customer_id']).agg({'sale_amount': ['max', 'min', 'median']})\n",
    "sales_groupby.dropna(axis=0, inplace=True)\n",
    "sales_groupby.reset_index(inplace=True, drop=True)\n",
    "sales_groupby.reset_index(inplace=True)\n",
    "sales_groupby.columns=['cust_id','max_sale','min_sale','median_sale']\n",
    "sales_groupby.head()\n",
    "ax1 = sales_groupby.plot(kind='scatter', x='cust_id', y='min_sale', color='r',grid=True, alpha=0.3, label='Min sale')    \n",
    "ax2 = sales_groupby.plot(kind='scatter', x='cust_id', y='median_sale', color='g', ax=ax1,grid=True, alpha=0.3, label='Median sale')    \n",
    "ax3 = sales_groupby.plot(kind='scatter', x='cust_id', y='max_sale', color='b', ax=ax1, alpha=0.3,grid=True, label='Max sale')\n",
    "ax1.set_ylabel('Sale amount')\n",
    "ax1.set_xlabel('Customer ID')\n",
    "ax1.set_title('Min, max and mean sale amounts per customer')\n",
    "ax1.legend(loc='center left', bbox_to_anchor=(1.0, 0.85))\n",
    "print('No. of customer who made sale transactions> $200 = ',sales_groupby[sales_groupby['max_sale']>200].shape[0])"
   ]
  },
  {
   "cell_type": "code",
   "execution_count": 21,
   "metadata": {},
   "outputs": [
    {
     "data": {
      "text/html": [
       "<div>\n",
       "<style scoped>\n",
       "    .dataframe tbody tr th:only-of-type {\n",
       "        vertical-align: middle;\n",
       "    }\n",
       "\n",
       "    .dataframe tbody tr th {\n",
       "        vertical-align: top;\n",
       "    }\n",
       "\n",
       "    .dataframe thead th {\n",
       "        text-align: right;\n",
       "    }\n",
       "</style>\n",
       "<table border=\"1\" class=\"dataframe\">\n",
       "  <thead>\n",
       "    <tr style=\"text-align: right;\">\n",
       "      <th></th>\n",
       "      <th>sale_id</th>\n",
       "      <th>sale_amount</th>\n",
       "      <th>customer_id</th>\n",
       "      <th>type</th>\n",
       "    </tr>\n",
       "  </thead>\n",
       "  <tbody>\n",
       "    <tr>\n",
       "      <th>0</th>\n",
       "      <td>37632.0</td>\n",
       "      <td>22.16</td>\n",
       "      <td>0009655768c64bdeb2e877511632db8f</td>\n",
       "      <td>offer</td>\n",
       "    </tr>\n",
       "    <tr>\n",
       "      <th>1</th>\n",
       "      <td>71464.0</td>\n",
       "      <td>8.57</td>\n",
       "      <td>0009655768c64bdeb2e877511632db8f</td>\n",
       "      <td>offer</td>\n",
       "    </tr>\n",
       "    <tr>\n",
       "      <th>2</th>\n",
       "      <td>97672.0</td>\n",
       "      <td>14.11</td>\n",
       "      <td>0009655768c64bdeb2e877511632db8f</td>\n",
       "      <td>nonoffer</td>\n",
       "    </tr>\n",
       "    <tr>\n",
       "      <th>3</th>\n",
       "      <td>103292.0</td>\n",
       "      <td>13.56</td>\n",
       "      <td>0009655768c64bdeb2e877511632db8f</td>\n",
       "      <td>nonoffer</td>\n",
       "    </tr>\n",
       "    <tr>\n",
       "      <th>4</th>\n",
       "      <td>108756.0</td>\n",
       "      <td>10.27</td>\n",
       "      <td>0009655768c64bdeb2e877511632db8f</td>\n",
       "      <td>nonoffer</td>\n",
       "    </tr>\n",
       "  </tbody>\n",
       "</table>\n",
       "</div>"
      ],
      "text/plain": [
       "    sale_id  sale_amount                       customer_id      type\n",
       "0   37632.0        22.16  0009655768c64bdeb2e877511632db8f     offer\n",
       "1   71464.0         8.57  0009655768c64bdeb2e877511632db8f     offer\n",
       "2   97672.0        14.11  0009655768c64bdeb2e877511632db8f  nonoffer\n",
       "3  103292.0        13.56  0009655768c64bdeb2e877511632db8f  nonoffer\n",
       "4  108756.0        10.27  0009655768c64bdeb2e877511632db8f  nonoffer"
      ]
     },
     "execution_count": 21,
     "metadata": {},
     "output_type": "execute_result"
    }
   ],
   "source": [
    "sales['UID_sale']=(sales['view_time']  <= sales['sale_time'] ) & (sales['sale_time'] \n",
    "                                                                    <=sales['end_time']) & (sales['viewed']==1)\n",
    "offer_metrics=sales[['sale_id', 'sale_amount', 'customer_id']]\n",
    "offer_metrics=offer_metrics.drop_duplicates()\n",
    "offer_sale_id =pd.DataFrame(sales.loc[sales['UID_sale']==True, 'sale_id'], columns=['sale_id'])\n",
    "offer_sale_id =offer_sale_id.drop_duplicates()\n",
    "offer_sale_id ['type']='offer'\n",
    "offer_metrics=pd.merge(offer_metrics, offer_sale_id, how='left', on='sale_id')\n",
    "offer_metrics['type'].fillna('nonoffer', inplace = True)\n",
    "offer_metrics.head()"
   ]
  },
  {
   "cell_type": "code",
   "execution_count": 22,
   "metadata": {},
   "outputs": [
    {
     "data": {
      "text/html": [
       "<div>\n",
       "<style scoped>\n",
       "    .dataframe tbody tr th:only-of-type {\n",
       "        vertical-align: middle;\n",
       "    }\n",
       "\n",
       "    .dataframe tbody tr th {\n",
       "        vertical-align: top;\n",
       "    }\n",
       "\n",
       "    .dataframe thead th {\n",
       "        text-align: right;\n",
       "    }\n",
       "</style>\n",
       "<table border=\"1\" class=\"dataframe\">\n",
       "  <thead>\n",
       "    <tr style=\"text-align: right;\">\n",
       "      <th></th>\n",
       "      <th>customer_id</th>\n",
       "      <th>max_offer</th>\n",
       "      <th>sum_offer</th>\n",
       "      <th>median_offer</th>\n",
       "      <th>n_offer_tran</th>\n",
       "      <th>max_nonoffer</th>\n",
       "      <th>sum_nonoffer</th>\n",
       "      <th>median_nonoffer</th>\n",
       "      <th>n_nonoffer_tran</th>\n",
       "    </tr>\n",
       "  </thead>\n",
       "  <tbody>\n",
       "    <tr>\n",
       "      <th>0</th>\n",
       "      <td>0009655768c64bdeb2e877511632db8f</td>\n",
       "      <td>22.16</td>\n",
       "      <td>30.73</td>\n",
       "      <td>15.365</td>\n",
       "      <td>2.0</td>\n",
       "      <td>28.16</td>\n",
       "      <td>96.87</td>\n",
       "      <td>13.835</td>\n",
       "      <td>6.0</td>\n",
       "    </tr>\n",
       "    <tr>\n",
       "      <th>1</th>\n",
       "      <td>0011e0d4e6b944f998e987f904e8c1e5</td>\n",
       "      <td>22.05</td>\n",
       "      <td>33.98</td>\n",
       "      <td>16.990</td>\n",
       "      <td>2.0</td>\n",
       "      <td>23.03</td>\n",
       "      <td>45.48</td>\n",
       "      <td>13.490</td>\n",
       "      <td>3.0</td>\n",
       "    </tr>\n",
       "    <tr>\n",
       "      <th>2</th>\n",
       "      <td>0020c2b971eb4e9188eac86d93036a77</td>\n",
       "      <td>17.63</td>\n",
       "      <td>34.87</td>\n",
       "      <td>17.435</td>\n",
       "      <td>2.0</td>\n",
       "      <td>33.86</td>\n",
       "      <td>161.99</td>\n",
       "      <td>26.165</td>\n",
       "      <td>6.0</td>\n",
       "    </tr>\n",
       "    <tr>\n",
       "      <th>3</th>\n",
       "      <td>0020ccbbb6d84e358d3414a3ff76cffd</td>\n",
       "      <td>20.08</td>\n",
       "      <td>95.37</td>\n",
       "      <td>11.650</td>\n",
       "      <td>7.0</td>\n",
       "      <td>16.27</td>\n",
       "      <td>58.68</td>\n",
       "      <td>13.860</td>\n",
       "      <td>5.0</td>\n",
       "    </tr>\n",
       "    <tr>\n",
       "      <th>4</th>\n",
       "      <td>003d66b6608740288d6cc97a6903f4f0</td>\n",
       "      <td>5.94</td>\n",
       "      <td>30.92</td>\n",
       "      <td>2.240</td>\n",
       "      <td>12.0</td>\n",
       "      <td>7.41</td>\n",
       "      <td>17.42</td>\n",
       "      <td>2.295</td>\n",
       "      <td>6.0</td>\n",
       "    </tr>\n",
       "  </tbody>\n",
       "</table>\n",
       "</div>"
      ],
      "text/plain": [
       "                        customer_id  max_offer  sum_offer  median_offer  \\\n",
       "0  0009655768c64bdeb2e877511632db8f      22.16      30.73        15.365   \n",
       "1  0011e0d4e6b944f998e987f904e8c1e5      22.05      33.98        16.990   \n",
       "2  0020c2b971eb4e9188eac86d93036a77      17.63      34.87        17.435   \n",
       "3  0020ccbbb6d84e358d3414a3ff76cffd      20.08      95.37        11.650   \n",
       "4  003d66b6608740288d6cc97a6903f4f0       5.94      30.92         2.240   \n",
       "\n",
       "   n_offer_tran  max_nonoffer  sum_nonoffer  median_nonoffer  n_nonoffer_tran  \n",
       "0           2.0         28.16         96.87           13.835              6.0  \n",
       "1           2.0         23.03         45.48           13.490              3.0  \n",
       "2           2.0         33.86        161.99           26.165              6.0  \n",
       "3           7.0         16.27         58.68           13.860              5.0  \n",
       "4          12.0          7.41         17.42            2.295              6.0  "
      ]
     },
     "execution_count": 22,
     "metadata": {},
     "output_type": "execute_result"
    }
   ],
   "source": [
    "offer_metrics_groupby=offer_metrics.groupby(['customer_id','type']).agg({'sale_amount': ['max', 'sum', 'median','count']})\n",
    "offer_metrics_groupby=offer_metrics_groupby.reset_index()\n",
    "offer_metrics_groupby.columns=['customer_id','type','max','sum','median','n']\n",
    "metrics=pd.merge(offer_metrics_groupby[offer_metrics_groupby['type']=='offer'],offer_metrics_groupby[offer_metrics_groupby['type']=='nonoffer'],\n",
    "                how='outer', on=['customer_id'])\n",
    "metrics=metrics.drop(['type_x','type_y'], axis=1)\n",
    "metrics.columns=['customer_id', 'max_offer','sum_offer', 'median_offer', 'n_offer_tran',\n",
    "                 'max_nonoffer','sum_nonoffer', 'median_nonoffer', 'n_nonoffer_tran']\n",
    "metrics=metrics.fillna(0)\n",
    "metrics.head()"
   ]
  },
  {
   "cell_type": "markdown",
   "metadata": {},
   "source": [
    "For each customer, we find the historic view and completion rate. For completion rate calculations we exclude informational only offers, as these offers cannot be completed."
   ]
  },
  {
   "cell_type": "code",
   "execution_count": 23,
   "metadata": {},
   "outputs": [
    {
     "data": {
      "text/html": [
       "<div>\n",
       "<style scoped>\n",
       "    .dataframe tbody tr th:only-of-type {\n",
       "        vertical-align: middle;\n",
       "    }\n",
       "\n",
       "    .dataframe tbody tr th {\n",
       "        vertical-align: top;\n",
       "    }\n",
       "\n",
       "    .dataframe thead th {\n",
       "        text-align: right;\n",
       "    }\n",
       "</style>\n",
       "<table border=\"1\" class=\"dataframe\">\n",
       "  <thead>\n",
       "    <tr style=\"text-align: right;\">\n",
       "      <th></th>\n",
       "      <th>customer_id</th>\n",
       "      <th>comp_rate</th>\n",
       "      <th>view_rate</th>\n",
       "    </tr>\n",
       "  </thead>\n",
       "  <tbody>\n",
       "    <tr>\n",
       "      <th>0</th>\n",
       "      <td>0009655768c64bdeb2e877511632db8f</td>\n",
       "      <td>0.000000</td>\n",
       "      <td>0.4</td>\n",
       "    </tr>\n",
       "    <tr>\n",
       "      <th>1</th>\n",
       "      <td>0011e0d4e6b944f998e987f904e8c1e5</td>\n",
       "      <td>1.000000</td>\n",
       "      <td>1.0</td>\n",
       "    </tr>\n",
       "    <tr>\n",
       "      <th>2</th>\n",
       "      <td>0020c2b971eb4e9188eac86d93036a77</td>\n",
       "      <td>0.500000</td>\n",
       "      <td>0.4</td>\n",
       "    </tr>\n",
       "    <tr>\n",
       "      <th>3</th>\n",
       "      <td>0020ccbbb6d84e358d3414a3ff76cffd</td>\n",
       "      <td>1.000000</td>\n",
       "      <td>1.0</td>\n",
       "    </tr>\n",
       "    <tr>\n",
       "      <th>4</th>\n",
       "      <td>003d66b6608740288d6cc97a6903f4f0</td>\n",
       "      <td>0.666667</td>\n",
       "      <td>0.8</td>\n",
       "    </tr>\n",
       "  </tbody>\n",
       "</table>\n",
       "</div>"
      ],
      "text/plain": [
       "                        customer_id  comp_rate  view_rate\n",
       "0  0009655768c64bdeb2e877511632db8f   0.000000        0.4\n",
       "1  0011e0d4e6b944f998e987f904e8c1e5   1.000000        1.0\n",
       "2  0020c2b971eb4e9188eac86d93036a77   0.500000        0.4\n",
       "3  0020ccbbb6d84e358d3414a3ff76cffd   1.000000        1.0\n",
       "4  003d66b6608740288d6cc97a6903f4f0   0.666667        0.8"
      ]
     },
     "execution_count": 23,
     "metadata": {},
     "output_type": "execute_result"
    }
   ],
   "source": [
    "cus_history=offers[['customer_id','completed','UID','viewed', 'offer_type_informational']]\n",
    "cus_history=cus_history.groupby(['customer_id']).agg({'completed':'sum', 'offer_type_informational':'sum',\n",
    "                                                     'viewed':'sum','UID':'count'})\n",
    "cus_history.reset_index(inplace=True)\n",
    "cus_history.columns=['customer_id','total_completed','informational_offers','total_viewed','total_offers' ]\n",
    "cus_history['comp_rate']=cus_history['total_completed']/(cus_history['total_offers'] -cus_history['informational_offers'])\n",
    "cus_history['view_rate']=cus_history['total_viewed']/cus_history['total_offers']\n",
    "cus_history = cus_history.iloc[:,[0,5,6]]\n",
    "cus_history.head()\n",
    "#cus_history[cus_history.isna().any(axis=1)]"
   ]
  },
  {
   "cell_type": "markdown",
   "metadata": {},
   "source": [
    "We then calculate metrics such as tototal time there was an offer and total time there was no offer for a given customers and the sale transactions during these times."
   ]
  },
  {
   "cell_type": "code",
   "execution_count": 24,
   "metadata": {},
   "outputs": [
    {
     "data": {
      "text/html": [
       "<div>\n",
       "<style scoped>\n",
       "    .dataframe tbody tr th:only-of-type {\n",
       "        vertical-align: middle;\n",
       "    }\n",
       "\n",
       "    .dataframe tbody tr th {\n",
       "        vertical-align: top;\n",
       "    }\n",
       "\n",
       "    .dataframe thead th {\n",
       "        text-align: right;\n",
       "    }\n",
       "</style>\n",
       "<table border=\"1\" class=\"dataframe\">\n",
       "  <thead>\n",
       "    <tr style=\"text-align: right;\">\n",
       "      <th></th>\n",
       "      <th>customer_id</th>\n",
       "      <th>total_offer_hours</th>\n",
       "      <th>total_nonoffer_hours</th>\n",
       "    </tr>\n",
       "  </thead>\n",
       "  <tbody>\n",
       "    <tr>\n",
       "      <th>0</th>\n",
       "      <td>0009655768c64bdeb2e877511632db8f</td>\n",
       "      <td>110</td>\n",
       "      <td>604</td>\n",
       "    </tr>\n",
       "    <tr>\n",
       "      <th>1</th>\n",
       "      <td>0011e0d4e6b944f998e987f904e8c1e5</td>\n",
       "      <td>358</td>\n",
       "      <td>356</td>\n",
       "    </tr>\n",
       "    <tr>\n",
       "      <th>2</th>\n",
       "      <td>0020c2b971eb4e9188eac86d93036a77</td>\n",
       "      <td>128</td>\n",
       "      <td>586</td>\n",
       "    </tr>\n",
       "    <tr>\n",
       "      <th>3</th>\n",
       "      <td>0020ccbbb6d84e358d3414a3ff76cffd</td>\n",
       "      <td>178</td>\n",
       "      <td>536</td>\n",
       "    </tr>\n",
       "    <tr>\n",
       "      <th>4</th>\n",
       "      <td>003d66b6608740288d6cc97a6903f4f0</td>\n",
       "      <td>242</td>\n",
       "      <td>472</td>\n",
       "    </tr>\n",
       "  </tbody>\n",
       "</table>\n",
       "</div>"
      ],
      "text/plain": [
       "                        customer_id  total_offer_hours  total_nonoffer_hours\n",
       "0  0009655768c64bdeb2e877511632db8f                110                   604\n",
       "1  0011e0d4e6b944f998e987f904e8c1e5                358                   356\n",
       "2  0020c2b971eb4e9188eac86d93036a77                128                   586\n",
       "3  0020ccbbb6d84e358d3414a3ff76cffd                178                   536\n",
       "4  003d66b6608740288d6cc97a6903f4f0                242                   472"
      ]
     },
     "execution_count": 24,
     "metadata": {},
     "output_type": "execute_result"
    }
   ],
   "source": [
    "metrics_time=sales.loc[sales['viewed']==1,['customer_id','view_time','end_time']]\n",
    "metrics_time['offer_hours'] = metrics_time.apply(\n",
    "    lambda row: (np.arange(row['view_time'], (row['end_time']+1))).tolist(),\n",
    "    axis=1\n",
    ")\n",
    "metrics_time=metrics_time.drop(['view_time','end_time'],axis=1)\n",
    "metrics_time = metrics_time.groupby(['customer_id'])['offer_hours'].sum()\n",
    "metrics_time = pd.DataFrame(metrics_time).reset_index()\n",
    "metrics_time['total_offer_hours'] = metrics_time.apply(lambda row: len(np.unique(np.array(row['offer_hours']))),axis=1)\n",
    "metrics_time=metrics_time.drop(['offer_hours'], axis=1)\n",
    "metrics_time['total_nonoffer_hours']= 714-metrics_time['total_offer_hours']\n",
    "metrics_time.head()"
   ]
  },
  {
   "cell_type": "code",
   "execution_count": 25,
   "metadata": {},
   "outputs": [
    {
     "data": {
      "text/html": [
       "<div>\n",
       "<style scoped>\n",
       "    .dataframe tbody tr th:only-of-type {\n",
       "        vertical-align: middle;\n",
       "    }\n",
       "\n",
       "    .dataframe tbody tr th {\n",
       "        vertical-align: top;\n",
       "    }\n",
       "\n",
       "    .dataframe thead th {\n",
       "        text-align: right;\n",
       "    }\n",
       "</style>\n",
       "<table border=\"1\" class=\"dataframe\">\n",
       "  <thead>\n",
       "    <tr style=\"text-align: right;\">\n",
       "      <th></th>\n",
       "      <th>customer_id</th>\n",
       "      <th>max_offer</th>\n",
       "      <th>median_offer</th>\n",
       "      <th>max_nonoffer</th>\n",
       "      <th>median_nonoffer</th>\n",
       "      <th>avg_offer_sale</th>\n",
       "      <th>avg_nonoffer_sale</th>\n",
       "      <th>avg_offer_tran</th>\n",
       "      <th>avg_nonoffer_tran</th>\n",
       "    </tr>\n",
       "  </thead>\n",
       "  <tbody>\n",
       "    <tr>\n",
       "      <th>0</th>\n",
       "      <td>0009655768c64bdeb2e877511632db8f</td>\n",
       "      <td>22.16</td>\n",
       "      <td>15.365</td>\n",
       "      <td>28.16</td>\n",
       "      <td>13.835</td>\n",
       "      <td>0.279364</td>\n",
       "      <td>0.160381</td>\n",
       "      <td>0.018182</td>\n",
       "      <td>0.009934</td>\n",
       "    </tr>\n",
       "    <tr>\n",
       "      <th>1</th>\n",
       "      <td>0011e0d4e6b944f998e987f904e8c1e5</td>\n",
       "      <td>22.05</td>\n",
       "      <td>16.990</td>\n",
       "      <td>23.03</td>\n",
       "      <td>13.490</td>\n",
       "      <td>0.094916</td>\n",
       "      <td>0.127753</td>\n",
       "      <td>0.005587</td>\n",
       "      <td>0.008427</td>\n",
       "    </tr>\n",
       "    <tr>\n",
       "      <th>2</th>\n",
       "      <td>0020c2b971eb4e9188eac86d93036a77</td>\n",
       "      <td>17.63</td>\n",
       "      <td>17.435</td>\n",
       "      <td>33.86</td>\n",
       "      <td>26.165</td>\n",
       "      <td>0.272422</td>\n",
       "      <td>0.276433</td>\n",
       "      <td>0.015625</td>\n",
       "      <td>0.010239</td>\n",
       "    </tr>\n",
       "    <tr>\n",
       "      <th>3</th>\n",
       "      <td>0020ccbbb6d84e358d3414a3ff76cffd</td>\n",
       "      <td>20.08</td>\n",
       "      <td>11.650</td>\n",
       "      <td>16.27</td>\n",
       "      <td>13.860</td>\n",
       "      <td>0.535787</td>\n",
       "      <td>0.109478</td>\n",
       "      <td>0.039326</td>\n",
       "      <td>0.009328</td>\n",
       "    </tr>\n",
       "    <tr>\n",
       "      <th>4</th>\n",
       "      <td>003d66b6608740288d6cc97a6903f4f0</td>\n",
       "      <td>5.94</td>\n",
       "      <td>2.240</td>\n",
       "      <td>7.41</td>\n",
       "      <td>2.295</td>\n",
       "      <td>0.127769</td>\n",
       "      <td>0.036907</td>\n",
       "      <td>0.049587</td>\n",
       "      <td>0.012712</td>\n",
       "    </tr>\n",
       "  </tbody>\n",
       "</table>\n",
       "</div>"
      ],
      "text/plain": [
       "                        customer_id  max_offer  median_offer  max_nonoffer  \\\n",
       "0  0009655768c64bdeb2e877511632db8f      22.16        15.365         28.16   \n",
       "1  0011e0d4e6b944f998e987f904e8c1e5      22.05        16.990         23.03   \n",
       "2  0020c2b971eb4e9188eac86d93036a77      17.63        17.435         33.86   \n",
       "3  0020ccbbb6d84e358d3414a3ff76cffd      20.08        11.650         16.27   \n",
       "4  003d66b6608740288d6cc97a6903f4f0       5.94         2.240          7.41   \n",
       "\n",
       "   median_nonoffer  avg_offer_sale  avg_nonoffer_sale  avg_offer_tran  \\\n",
       "0           13.835        0.279364           0.160381        0.018182   \n",
       "1           13.490        0.094916           0.127753        0.005587   \n",
       "2           26.165        0.272422           0.276433        0.015625   \n",
       "3           13.860        0.535787           0.109478        0.039326   \n",
       "4            2.295        0.127769           0.036907        0.049587   \n",
       "\n",
       "   avg_nonoffer_tran  \n",
       "0           0.009934  \n",
       "1           0.008427  \n",
       "2           0.010239  \n",
       "3           0.009328  \n",
       "4           0.012712  "
      ]
     },
     "execution_count": 25,
     "metadata": {},
     "output_type": "execute_result"
    }
   ],
   "source": [
    "metrics_final=pd.merge(metrics_time, metrics, how='left', on=['customer_id']).fillna(0)\n",
    "metrics_final.head()\n",
    "metrics_final['avg_offer_sale']=metrics_final['sum_offer']/metrics_final['total_offer_hours']\n",
    "metrics_final['avg_nonoffer_sale']=metrics_final['sum_nonoffer']/metrics_final['total_nonoffer_hours']\n",
    "metrics_final['avg_offer_tran']=metrics_final['n_offer_tran']/metrics_final['total_offer_hours']\n",
    "metrics_final['avg_nonoffer_tran']=metrics_final['n_nonoffer_tran']/metrics_final['total_nonoffer_hours']\n",
    "metrics_final.drop(['sum_offer','sum_nonoffer','n_offer_tran','n_nonoffer_tran','total_offer_hours','total_nonoffer_hours'], \n",
    "                   axis=1, inplace=True)\n",
    "metrics_final.head()"
   ]
  },
  {
   "cell_type": "markdown",
   "metadata": {},
   "source": [
    "We then create two more tables to record sales that occurred when there was an active offer and when there was no active offer."
   ]
  },
  {
   "cell_type": "code",
   "execution_count": 26,
   "metadata": {
    "scrolled": true
   },
   "outputs": [
    {
     "data": {
      "text/html": [
       "<div>\n",
       "<style scoped>\n",
       "    .dataframe tbody tr th:only-of-type {\n",
       "        vertical-align: middle;\n",
       "    }\n",
       "\n",
       "    .dataframe tbody tr th {\n",
       "        vertical-align: top;\n",
       "    }\n",
       "\n",
       "    .dataframe thead th {\n",
       "        text-align: right;\n",
       "    }\n",
       "</style>\n",
       "<table border=\"1\" class=\"dataframe\">\n",
       "  <thead>\n",
       "    <tr style=\"text-align: right;\">\n",
       "      <th></th>\n",
       "      <th>UID</th>\n",
       "      <th>Total_UID_Sale</th>\n",
       "    </tr>\n",
       "  </thead>\n",
       "  <tbody>\n",
       "    <tr>\n",
       "      <th>0</th>\n",
       "      <td>1</td>\n",
       "      <td>8.57</td>\n",
       "    </tr>\n",
       "    <tr>\n",
       "      <th>1</th>\n",
       "      <td>2</td>\n",
       "      <td>22.16</td>\n",
       "    </tr>\n",
       "    <tr>\n",
       "      <th>2</th>\n",
       "      <td>7</td>\n",
       "      <td>22.05</td>\n",
       "    </tr>\n",
       "    <tr>\n",
       "      <th>3</th>\n",
       "      <td>8</td>\n",
       "      <td>11.93</td>\n",
       "    </tr>\n",
       "    <tr>\n",
       "      <th>4</th>\n",
       "      <td>11</td>\n",
       "      <td>22.05</td>\n",
       "    </tr>\n",
       "  </tbody>\n",
       "</table>\n",
       "</div>"
      ],
      "text/plain": [
       "   UID  Total_UID_Sale\n",
       "0    1            8.57\n",
       "1    2           22.16\n",
       "2    7           22.05\n",
       "3    8           11.93\n",
       "4   11           22.05"
      ]
     },
     "execution_count": 26,
     "metadata": {},
     "output_type": "execute_result"
    }
   ],
   "source": [
    "UID_sales=sales.loc[sales['UID_sale']==True, ['UID','sale_id', 'sale_amount']]\n",
    "offer_metrics=sales[['sale_id', 'UID_sale','sale_amount', 'customer_id']]\n",
    "metric_subset =sales.loc[sales['UID_sale']==True, 'sale_id']\n",
    "\n",
    "#UID_sales records sales that occur when an offer is present\n",
    "UID_sales=UID_sales.drop_duplicates().reset_index(drop=True)\n",
    "UID_sales=UID_sales.drop(['sale_id'], axis=1)\n",
    "UID_sales = pd.DataFrame(UID_sales.groupby(['UID'])['sale_amount'].sum())\n",
    "UID_sales.reset_index(level=0, inplace=True)\n",
    "UID_sales.columns=['UID','Total_UID_Sale']\n",
    "UID_sales.head()"
   ]
  },
  {
   "cell_type": "markdown",
   "metadata": {},
   "source": [
    "We then find the duration where an offer is active and the total duration where a customer does not have any open offers"
   ]
  },
  {
   "cell_type": "code",
   "execution_count": 27,
   "metadata": {},
   "outputs": [
    {
     "data": {
      "text/plain": [
       "Index(['UID', 'customer_id', 'offer_id', 'receive_time', 'event', 'view_time',\n",
       "       'complete_time', 'cus_index', 'age', 'became_member_on', 'gender',\n",
       "       'income', 'membership_duration', 'difficulty', 'duration', 'reward',\n",
       "       'offer_type_bogo', 'offer_type_discount', 'offer_type_informational',\n",
       "       'web', 'email', 'mobile', 'social', 'offer_type', 'expire_time',\n",
       "       'viewed', 'completed', 'end_time', 'age_range', 'gender_M_F',\n",
       "       'Total_UID_Sale', 'Average_UID_sale', 'max_offer', 'median_offer',\n",
       "       'max_nonoffer', 'median_nonoffer', 'avg_offer_sale',\n",
       "       'avg_nonoffer_sale', 'avg_offer_tran', 'avg_nonoffer_tran', 'comp_rate',\n",
       "       'view_rate', 'gain_ratio'],\n",
       "      dtype='object')"
      ]
     },
     "execution_count": 27,
     "metadata": {},
     "output_type": "execute_result"
    }
   ],
   "source": [
    "#Create the final dataframe that includes average sale for periods with and without active offers\n",
    "Final_df=pd.merge(offers,UID_sales, how='left', on=['UID'] )\n",
    "\n",
    "Final_df['Total_UID_Sale'].fillna(0, inplace=True)                     \n",
    "Final_df['Average_UID_sale'] =Final_df['Total_UID_Sale']/(Final_df['end_time'] - Final_df['view_time'])\n",
    "Final_df.loc[Final_df['end_time'] == Final_df['view_time'], ['Average_UID_sale']]=Final_df['Total_UID_Sale']\n",
    "Final_df['Average_UID_sale']=Final_df['Average_UID_sale'].fillna(0)\n",
    "\n",
    "Final_df=pd.merge(Final_df, metrics_final, how='inner', on=['customer_id'])\n",
    "Final_df=pd.merge(Final_df,cus_history, how='left', on=['customer_id'] )\n",
    "Final_df['comp_rate'].fillna(0, inplace=True)   \n",
    "Final_df['view_rate'].fillna(0, inplace=True)\n",
    "\n",
    "#We define gain ratio as teh ratio between average sale when there is an offer to the average sale when there is no offer\n",
    "Final_df['gain_ratio']=(Final_df['Average_UID_sale']-Final_df['avg_nonoffer_sale'])/Final_df['avg_nonoffer_sale']\n",
    "Final_df['gain_ratio'].fillna(0, inplace=True)\n",
    "Final_df.columns\n",
    "\n"
   ]
  },
  {
   "cell_type": "code",
   "execution_count": 28,
   "metadata": {},
   "outputs": [
    {
     "data": {
      "text/plain": [
       "Index(['UID', 'customer_id', 'offer_id', 'receive_time', 'event', 'view_time',\n",
       "       'complete_time', 'cus_index', 'age', 'became_member_on', 'gender',\n",
       "       'income', 'membership_duration', 'difficulty', 'duration', 'reward',\n",
       "       'offer_type_bogo', 'offer_type_discount', 'offer_type_informational',\n",
       "       'web', 'email', 'mobile', 'social', 'offer_type', 'expire_time',\n",
       "       'viewed', 'completed', 'end_time', 'age_range', 'gender_M_F',\n",
       "       'Total_UID_Sale', 'Average_UID_sale', 'max_offer', 'median_offer',\n",
       "       'max_nonoffer', 'median_nonoffer', 'avg_offer_sale',\n",
       "       'avg_nonoffer_sale', 'avg_offer_tran', 'avg_nonoffer_tran', 'comp_rate',\n",
       "       'view_rate', 'gain_ratio', 'Outcome'],\n",
       "      dtype='object')"
      ]
     },
     "execution_count": 28,
     "metadata": {},
     "output_type": "execute_result"
    }
   ],
   "source": [
    "# Discard entries where average nonoffer sale is too low, this will artifically inflate gain ratios\n",
    "Final_df=Final_df.loc[Final_df['avg_nonoffer_sale']>=1/48,:] \n",
    "\n",
    "#Define outcome a category variable based on sales increase\n",
    "Final_df['Outcome']=0\n",
    "Final_df.loc[(Final_df['gain_ratio']>=1.0) & (Final_df['gain_ratio']<1.1),['Outcome']]=1\n",
    "Final_df.loc[(Final_df['gain_ratio']>=1.1) & (Final_df['gain_ratio']<1.25),['Outcome']]=2\n",
    "Final_df.loc[(Final_df['gain_ratio']>=1.25) & (Final_df['gain_ratio']<2),['Outcome']]=3\n",
    "Final_df.loc[Final_df['gain_ratio']>=2,['Outcome']]=4\n",
    "Final_df = Final_df.sample(frac=1, random_state=42)\n",
    "Final_df.columns"
   ]
  },
  {
   "cell_type": "code",
   "execution_count": 29,
   "metadata": {
    "scrolled": true
   },
   "outputs": [],
   "source": [
    "#Generate X and y tables for outcome prediction \n",
    "view_model=Final_df\n",
    "outcome_model=Final_df[Final_df['viewed']==1]\n",
    "complete_model=outcome_model[outcome_model['offer_type_informational']==0]\n",
    "\n",
    "y_view=view_model['viewed']\n",
    "y_outcome=outcome_model['Outcome']\n",
    "y_complete=complete_model['completed']"
   ]
  },
  {
   "cell_type": "markdown",
   "metadata": {},
   "source": [
    "# Modeling data to predict if an offer will be viewed"
   ]
  },
  {
   "cell_type": "code",
   "execution_count": 30,
   "metadata": {},
   "outputs": [],
   "source": [
    "X_view = view_model[['age', 'gender','income', 'membership_duration', 'web', 'email', 'mobile', 'social', 'expire_time',\n",
    "                    'max_offer', 'median_offer','max_nonoffer','median_nonoffer','avg_offer_sale', \n",
    "                    'avg_nonoffer_sale','avg_offer_tran','comp_rate', 'view_rate']]\n",
    "scaler = MinMaxScaler(feature_range=(0,1))\n",
    "X_view = pd.DataFrame(scaler.fit_transform(X_view), columns=['age', 'gender','income', 'membership_duration', 'web', 'email', \n",
    "                                                             'mobile', 'social', \n",
    "                                                             'expire_time', 'max_offer', 'median_offer',\n",
    "                                                             'max_nonoffer','median_nonoffer','avg_offer_sale', \n",
    "                                                             'avg_nonoffer_sale','avg_offer_tran','comp_rate', 'view_rate'])"
   ]
  },
  {
   "cell_type": "code",
   "execution_count": 31,
   "metadata": {},
   "outputs": [
    {
     "name": "stdout",
     "output_type": "stream",
     "text": [
      "F1 score for the baseline view model =  0.835781527127\n"
     ]
    }
   ],
   "source": [
    "#Perform test train splits\n",
    "X_train_view, X_test_view, y_train_view, y_test_view = train_test_split(X_view, y_view, test_size=0.33, random_state=42)\n",
    "\n",
    "# Fit baseline model, predict test data and compute metric\n",
    "LG_view = LogisticRegression(random_state=0, class_weight='balanced')\n",
    "LG_view.fit(X_train_view, y_train_view)\n",
    "y_pred_view=LG_view.predict(X_test_view)\n",
    "f1_view=f1_score(y_pred_view, y_test_view)\n",
    "print('F1 score for the baseline view model = ', f1_view)"
   ]
  },
  {
   "cell_type": "code",
   "execution_count": 32,
   "metadata": {},
   "outputs": [
    {
     "data": {
      "text/html": [
       "<div>\n",
       "<style scoped>\n",
       "    .dataframe tbody tr th:only-of-type {\n",
       "        vertical-align: middle;\n",
       "    }\n",
       "\n",
       "    .dataframe tbody tr th {\n",
       "        vertical-align: top;\n",
       "    }\n",
       "\n",
       "    .dataframe thead th {\n",
       "        text-align: right;\n",
       "    }\n",
       "</style>\n",
       "<table border=\"1\" class=\"dataframe\">\n",
       "  <thead>\n",
       "    <tr style=\"text-align: right;\">\n",
       "      <th></th>\n",
       "      <th>values</th>\n",
       "      <th>view_weights</th>\n",
       "    </tr>\n",
       "  </thead>\n",
       "  <tbody>\n",
       "    <tr>\n",
       "      <th>0</th>\n",
       "      <td>avg_nonoffer_sale</td>\n",
       "      <td>-1.862540</td>\n",
       "    </tr>\n",
       "    <tr>\n",
       "      <th>1</th>\n",
       "      <td>expire_time</td>\n",
       "      <td>-0.669228</td>\n",
       "    </tr>\n",
       "    <tr>\n",
       "      <th>2</th>\n",
       "      <td>median_nonoffer</td>\n",
       "      <td>-0.457174</td>\n",
       "    </tr>\n",
       "    <tr>\n",
       "      <th>3</th>\n",
       "      <td>max_offer</td>\n",
       "      <td>-0.161893</td>\n",
       "    </tr>\n",
       "    <tr>\n",
       "      <th>4</th>\n",
       "      <td>income</td>\n",
       "      <td>-0.040568</td>\n",
       "    </tr>\n",
       "    <tr>\n",
       "      <th>5</th>\n",
       "      <td>membership_duration</td>\n",
       "      <td>-0.018083</td>\n",
       "    </tr>\n",
       "    <tr>\n",
       "      <th>6</th>\n",
       "      <td>avg_offer_sale</td>\n",
       "      <td>-0.000682</td>\n",
       "    </tr>\n",
       "    <tr>\n",
       "      <th>7</th>\n",
       "      <td>email</td>\n",
       "      <td>0.000000</td>\n",
       "    </tr>\n",
       "    <tr>\n",
       "      <th>8</th>\n",
       "      <td>gender</td>\n",
       "      <td>0.006147</td>\n",
       "    </tr>\n",
       "    <tr>\n",
       "      <th>9</th>\n",
       "      <td>age</td>\n",
       "      <td>0.023639</td>\n",
       "    </tr>\n",
       "    <tr>\n",
       "      <th>10</th>\n",
       "      <td>comp_rate</td>\n",
       "      <td>0.044107</td>\n",
       "    </tr>\n",
       "    <tr>\n",
       "      <th>11</th>\n",
       "      <td>avg_offer_tran</td>\n",
       "      <td>0.200831</td>\n",
       "    </tr>\n",
       "    <tr>\n",
       "      <th>12</th>\n",
       "      <td>web</td>\n",
       "      <td>0.665592</td>\n",
       "    </tr>\n",
       "    <tr>\n",
       "      <th>13</th>\n",
       "      <td>mobile</td>\n",
       "      <td>0.706665</td>\n",
       "    </tr>\n",
       "    <tr>\n",
       "      <th>14</th>\n",
       "      <td>median_offer</td>\n",
       "      <td>0.711198</td>\n",
       "    </tr>\n",
       "    <tr>\n",
       "      <th>15</th>\n",
       "      <td>max_nonoffer</td>\n",
       "      <td>1.223830</td>\n",
       "    </tr>\n",
       "    <tr>\n",
       "      <th>16</th>\n",
       "      <td>social</td>\n",
       "      <td>1.954476</td>\n",
       "    </tr>\n",
       "    <tr>\n",
       "      <th>17</th>\n",
       "      <td>view_rate</td>\n",
       "      <td>5.476593</td>\n",
       "    </tr>\n",
       "  </tbody>\n",
       "</table>\n",
       "</div>"
      ],
      "text/plain": [
       "                 values  view_weights\n",
       "0     avg_nonoffer_sale     -1.862540\n",
       "1           expire_time     -0.669228\n",
       "2       median_nonoffer     -0.457174\n",
       "3             max_offer     -0.161893\n",
       "4                income     -0.040568\n",
       "5   membership_duration     -0.018083\n",
       "6        avg_offer_sale     -0.000682\n",
       "7                 email      0.000000\n",
       "8                gender      0.006147\n",
       "9                   age      0.023639\n",
       "10            comp_rate      0.044107\n",
       "11       avg_offer_tran      0.200831\n",
       "12                  web      0.665592\n",
       "13               mobile      0.706665\n",
       "14         median_offer      0.711198\n",
       "15         max_nonoffer      1.223830\n",
       "16               social      1.954476\n",
       "17            view_rate      5.476593"
      ]
     },
     "execution_count": 32,
     "metadata": {},
     "output_type": "execute_result"
    }
   ],
   "source": [
    "#Create a dataframe of logistic regression weights\n",
    "weights =pd.DataFrame(LG_view.coef_ .T, columns=['view_weights'])\n",
    "values =pd.DataFrame(X_test_view.columns, columns=['values'])\n",
    "weight_values=pd.concat([values, weights],axis=1).sort_values(by=['view_weights']).reset_index(drop=True)\n",
    "weight_values"
   ]
  },
  {
   "cell_type": "markdown",
   "metadata": {},
   "source": [
    "Model shows that the strongest predictor for view is the historic view rates of the customer. The baseline F1 score is pretty good at 0.85.\n",
    "\n",
    "We now try the following three models and compare their F1 score against the baseline model and select the best model\n",
    "\n",
    "Random Forest classifier\n",
    "K Neighbors classifier\n",
    "Naïve Bayes classifier"
   ]
  },
  {
   "cell_type": "code",
   "execution_count": 33,
   "metadata": {},
   "outputs": [
    {
     "name": "stdout",
     "output_type": "stream",
     "text": [
      "0.837321605657\n"
     ]
    }
   ],
   "source": [
    "#RandomForest\n",
    "from sklearn.ensemble import RandomForestClassifier\n",
    "RFC_view = RandomForestClassifier(class_weight='balanced', random_state = 42)\n",
    "RFC_view.fit(X_train_view, y_train_view) \n",
    "y_pred_view= RFC_view.predict(X_test_view)\n",
    "RFC_view_f1=f1_score(y_pred_view, y_test_view)\n",
    "print(RFC_view_f1)"
   ]
  },
  {
   "cell_type": "code",
   "execution_count": 34,
   "metadata": {},
   "outputs": [
    {
     "name": "stdout",
     "output_type": "stream",
     "text": [
      "0.852436688657\n"
     ]
    }
   ],
   "source": [
    "#KNeighbors\n",
    "from sklearn.neighbors import KNeighborsClassifier\n",
    "KNC_view=KNeighborsClassifier()\n",
    "KNC_view.fit(X_train_view, y_train_view) \n",
    "y_pred_view= KNC_view.predict(X_test_view)\n",
    "KNC_view_f1=f1_score(y_pred_view, y_test_view)\n",
    "print(KNC_view_f1)\n"
   ]
  },
  {
   "cell_type": "code",
   "execution_count": 35,
   "metadata": {},
   "outputs": [
    {
     "name": "stdout",
     "output_type": "stream",
     "text": [
      "0.834055171876\n"
     ]
    }
   ],
   "source": [
    "# Naive Bayes classifier\n",
    "NBC_view = GaussianNB()\n",
    "NBC_view.fit(X_train_view, y_train_view) \n",
    "y_pred_view= NBC_view.predict(X_test_view)\n",
    "NBC_view_f1=f1_score(y_pred_view, y_test_view)\n",
    "print(NBC_view_f1)"
   ]
  },
  {
   "cell_type": "markdown",
   "metadata": {},
   "source": [
    "KNN classifer has the highest F1 score. We will not perform some hyperparameter tuning using GridSearchCV to see if we can improve this score."
   ]
  },
  {
   "cell_type": "code",
   "execution_count": 36,
   "metadata": {},
   "outputs": [
    {
     "name": "stdout",
     "output_type": "stream",
     "text": [
      "Best leaf_size: 20\n",
      "Best p: 2\n",
      "Best n_neighbors: 17\n"
     ]
    }
   ],
   "source": [
    "#Hyperparameters to tune\n",
    "leaf_size = [20,25,30,35,40,45,50]\n",
    "n_neighbors = list(range(2,20))\n",
    "p=[1,2]\n",
    "\n",
    "hyperparameters = dict(leaf_size=leaf_size, n_neighbors=n_neighbors, p=p)\n",
    "\n",
    "#Create new KNN object\n",
    "knn_hpt = KNeighborsClassifier()\n",
    "#Use GridSearch\n",
    "\n",
    "X_val=X_test_view.reset_index(drop=True)\n",
    "X_val=X_val.iloc[0:1000,:]\n",
    "y_val=y_test_view.reset_index(drop=True)\n",
    "y_val=y_val[0:1000]\n",
    "\n",
    "clf = GridSearchCV(knn_hpt, hyperparameters, cv=10, scoring ='f1_weighted')\n",
    "#Fit the model\n",
    "best_model = clf.fit(X_val, y_val)\n",
    "#Print The value of best Hyperparameters\n",
    "print('Best leaf_size:', best_model.best_estimator_.get_params()['leaf_size'])\n",
    "print('Best p:', best_model.best_estimator_.get_params()['p'])\n",
    "print('Best n_neighbors:', best_model.best_estimator_.get_params()['n_neighbors'])"
   ]
  },
  {
   "cell_type": "code",
   "execution_count": 37,
   "metadata": {},
   "outputs": [
    {
     "name": "stdout",
     "output_type": "stream",
     "text": [
      "0.871268891029\n"
     ]
    }
   ],
   "source": [
    "#KNC model with the best hyperparameters\n",
    "KNC_view=KNeighborsClassifier(leaf_size=20,p=1,n_neighbors=19)\n",
    "KNC_view.fit(X_train_view, y_train_view) \n",
    "y_pred_view= KNC_view.predict(X_test_view)\n",
    "KNC_view_f1=f1_score(y_pred_view, y_test_view)\n",
    "print(KNC_view_f1)"
   ]
  },
  {
   "cell_type": "markdown",
   "metadata": {},
   "source": [
    "The hyperparameter tuning has marginally increased the F1 score from 0.86 to 0.88. We now have a good model to predict the view rates of the offer.We now save this model to a pickle file for future use."
   ]
  },
  {
   "cell_type": "code",
   "execution_count": 38,
   "metadata": {},
   "outputs": [],
   "source": [
    "import pickle\n",
    "filename = 'view_model.sav'\n",
    "pickle.dump(KNC_view, open(filename, 'wb'))"
   ]
  },
  {
   "cell_type": "markdown",
   "metadata": {},
   "source": [
    "# Model for predicting if an offer will becompleted"
   ]
  },
  {
   "cell_type": "code",
   "execution_count": 39,
   "metadata": {},
   "outputs": [],
   "source": [
    "X_complete = complete_model[['age', 'gender','income', 'membership_duration', 'web', 'email', 'mobile', 'social', 'expire_time',\n",
    "                    'max_offer', 'median_offer','max_nonoffer','median_nonoffer','avg_offer_sale', \n",
    "                    'avg_nonoffer_sale','avg_offer_tran','comp_rate', 'view_rate']]\n",
    "X_complete = pd.DataFrame(scaler.fit_transform(X_complete), columns=['age', 'gender','income', 'membership_duration', 'web', 'email', \n",
    "                                                             'mobile', 'social', \n",
    "                                                             'expire_time', 'max_offer', 'median_offer',\n",
    "                                                             'max_nonoffer','median_nonoffer','avg_offer_sale', \n",
    "                                                             'avg_nonoffer_sale','avg_offer_tran','comp_rate', 'view_rate'])\n",
    "#Perform test train splits\n",
    "X_train_complete, X_test_complete, y_train_complete, y_test_complete = train_test_split(X_complete, y_complete, \n",
    "                                                                                        test_size=0.33, random_state=42)"
   ]
  },
  {
   "cell_type": "code",
   "execution_count": 40,
   "metadata": {},
   "outputs": [
    {
     "name": "stdout",
     "output_type": "stream",
     "text": [
      "F1 score for the baseline complete model =  0.894976475945\n"
     ]
    }
   ],
   "source": [
    "# Fit baseline model, predict test data and compute metric\n",
    "LG_complete = LogisticRegression(random_state=0, class_weight='balanced')\n",
    "LG_complete.fit(X_train_complete, y_train_complete)\n",
    "y_pred_complete=LG_complete.predict(X_test_complete)\n",
    "f1_complete=f1_score(y_pred_complete, y_test_complete)\n",
    "print('F1 score for the baseline complete model = ', f1_complete)"
   ]
  },
  {
   "cell_type": "code",
   "execution_count": 41,
   "metadata": {},
   "outputs": [
    {
     "data": {
      "text/html": [
       "<div>\n",
       "<style scoped>\n",
       "    .dataframe tbody tr th:only-of-type {\n",
       "        vertical-align: middle;\n",
       "    }\n",
       "\n",
       "    .dataframe tbody tr th {\n",
       "        vertical-align: top;\n",
       "    }\n",
       "\n",
       "    .dataframe thead th {\n",
       "        text-align: right;\n",
       "    }\n",
       "</style>\n",
       "<table border=\"1\" class=\"dataframe\">\n",
       "  <thead>\n",
       "    <tr style=\"text-align: right;\">\n",
       "      <th></th>\n",
       "      <th>values</th>\n",
       "      <th>complete_weights</th>\n",
       "    </tr>\n",
       "  </thead>\n",
       "  <tbody>\n",
       "    <tr>\n",
       "      <th>0</th>\n",
       "      <td>view_rate</td>\n",
       "      <td>-5.383915</td>\n",
       "    </tr>\n",
       "    <tr>\n",
       "      <th>1</th>\n",
       "      <td>max_nonoffer</td>\n",
       "      <td>-1.336850</td>\n",
       "    </tr>\n",
       "    <tr>\n",
       "      <th>2</th>\n",
       "      <td>membership_duration</td>\n",
       "      <td>-0.112429</td>\n",
       "    </tr>\n",
       "    <tr>\n",
       "      <th>3</th>\n",
       "      <td>social</td>\n",
       "      <td>-0.098800</td>\n",
       "    </tr>\n",
       "    <tr>\n",
       "      <th>4</th>\n",
       "      <td>email</td>\n",
       "      <td>0.000000</td>\n",
       "    </tr>\n",
       "    <tr>\n",
       "      <th>5</th>\n",
       "      <td>age</td>\n",
       "      <td>0.032722</td>\n",
       "    </tr>\n",
       "    <tr>\n",
       "      <th>6</th>\n",
       "      <td>income</td>\n",
       "      <td>0.050325</td>\n",
       "    </tr>\n",
       "    <tr>\n",
       "      <th>7</th>\n",
       "      <td>max_offer</td>\n",
       "      <td>0.053184</td>\n",
       "    </tr>\n",
       "    <tr>\n",
       "      <th>8</th>\n",
       "      <td>gender</td>\n",
       "      <td>0.074665</td>\n",
       "    </tr>\n",
       "    <tr>\n",
       "      <th>9</th>\n",
       "      <td>avg_offer_sale</td>\n",
       "      <td>0.226321</td>\n",
       "    </tr>\n",
       "    <tr>\n",
       "      <th>10</th>\n",
       "      <td>mobile</td>\n",
       "      <td>0.494343</td>\n",
       "    </tr>\n",
       "    <tr>\n",
       "      <th>11</th>\n",
       "      <td>web</td>\n",
       "      <td>0.680991</td>\n",
       "    </tr>\n",
       "    <tr>\n",
       "      <th>12</th>\n",
       "      <td>expire_time</td>\n",
       "      <td>0.688498</td>\n",
       "    </tr>\n",
       "    <tr>\n",
       "      <th>13</th>\n",
       "      <td>median_nonoffer</td>\n",
       "      <td>0.770458</td>\n",
       "    </tr>\n",
       "    <tr>\n",
       "      <th>14</th>\n",
       "      <td>median_offer</td>\n",
       "      <td>0.838963</td>\n",
       "    </tr>\n",
       "    <tr>\n",
       "      <th>15</th>\n",
       "      <td>avg_nonoffer_sale</td>\n",
       "      <td>2.679504</td>\n",
       "    </tr>\n",
       "    <tr>\n",
       "      <th>16</th>\n",
       "      <td>avg_offer_tran</td>\n",
       "      <td>6.359844</td>\n",
       "    </tr>\n",
       "    <tr>\n",
       "      <th>17</th>\n",
       "      <td>comp_rate</td>\n",
       "      <td>9.315463</td>\n",
       "    </tr>\n",
       "  </tbody>\n",
       "</table>\n",
       "</div>"
      ],
      "text/plain": [
       "                 values  complete_weights\n",
       "0             view_rate         -5.383915\n",
       "1          max_nonoffer         -1.336850\n",
       "2   membership_duration         -0.112429\n",
       "3                social         -0.098800\n",
       "4                 email          0.000000\n",
       "5                   age          0.032722\n",
       "6                income          0.050325\n",
       "7             max_offer          0.053184\n",
       "8                gender          0.074665\n",
       "9        avg_offer_sale          0.226321\n",
       "10               mobile          0.494343\n",
       "11                  web          0.680991\n",
       "12          expire_time          0.688498\n",
       "13      median_nonoffer          0.770458\n",
       "14         median_offer          0.838963\n",
       "15    avg_nonoffer_sale          2.679504\n",
       "16       avg_offer_tran          6.359844\n",
       "17            comp_rate          9.315463"
      ]
     },
     "execution_count": 41,
     "metadata": {},
     "output_type": "execute_result"
    }
   ],
   "source": [
    "#Create a dataframe of logistic regression weights\n",
    "weights =pd.DataFrame(LG_complete.coef_ .T, columns=['complete_weights'])\n",
    "values =pd.DataFrame(X_test_complete.columns, columns=['values'])\n",
    "weight_values=pd.concat([values, weights],axis=1).sort_values(by=['complete_weights']).reset_index(drop=True)\n",
    "weight_values"
   ]
  },
  {
   "cell_type": "markdown",
   "metadata": {},
   "source": [
    "The baseline model has an F1 score of 0.89. We will now fit the three other model as in the previous exercise."
   ]
  },
  {
   "cell_type": "code",
   "execution_count": 42,
   "metadata": {},
   "outputs": [
    {
     "name": "stdout",
     "output_type": "stream",
     "text": [
      "0.869156852829\n"
     ]
    }
   ],
   "source": [
    "#RandomForest\n",
    "from sklearn.ensemble import RandomForestClassifier\n",
    "RFC_complete = RandomForestClassifier(class_weight='balanced', random_state = 42)\n",
    "RFC_complete.fit(X_train_complete, y_train_complete) \n",
    "y_pred_complete= RFC_complete.predict(X_test_complete)\n",
    "RFC_complete_f1=f1_score(y_pred_complete, y_test_complete)\n",
    "print(RFC_complete_f1)"
   ]
  },
  {
   "cell_type": "code",
   "execution_count": 43,
   "metadata": {},
   "outputs": [
    {
     "name": "stdout",
     "output_type": "stream",
     "text": [
      "0.900576571509\n"
     ]
    }
   ],
   "source": [
    "#KNeighbors\n",
    "from sklearn.neighbors import KNeighborsClassifier\n",
    "KNC_complete=KNeighborsClassifier()\n",
    "KNC_complete.fit(X_train_complete, y_train_complete) \n",
    "y_pred_complete= KNC_complete.predict(X_test_complete)\n",
    "KNC_complete_f1=f1_score(y_pred_complete, y_test_complete)\n",
    "print(KNC_complete_f1)"
   ]
  },
  {
   "cell_type": "code",
   "execution_count": 44,
   "metadata": {},
   "outputs": [
    {
     "name": "stdout",
     "output_type": "stream",
     "text": [
      "0.568167669641\n"
     ]
    }
   ],
   "source": [
    "# Naive Bayes classifier\n",
    "from sklearn.naive_bayes import GaussianNB\n",
    "NBC_complete = GaussianNB()\n",
    "NBC_complete.fit(X_train_complete, y_train_complete) \n",
    "y_pred_complete= NBC_complete.predict(X_test_complete)\n",
    "NBC_complete_f1=f1_score(y_pred_complete, y_test_complete)\n",
    "print(NBC_complete_f1)"
   ]
  },
  {
   "cell_type": "markdown",
   "metadata": {},
   "source": [
    "We will now perform hyperparemeter tuning on KNN classifer which has the highest F1 scores of all the models tested"
   ]
  },
  {
   "cell_type": "code",
   "execution_count": 45,
   "metadata": {},
   "outputs": [
    {
     "name": "stdout",
     "output_type": "stream",
     "text": [
      "Best leaf_size: 40\n",
      "Best p: 1\n",
      "Best n_neighbors: 12\n"
     ]
    }
   ],
   "source": [
    "#Hyperparameters to tune\n",
    "leaf_size = list(range(40,50))\n",
    "n_neighbors = list(range(2,20))\n",
    "p=[1,2]\n",
    "\n",
    "hyperparameters = dict(leaf_size=leaf_size, n_neighbors=n_neighbors, p=p)\n",
    "\n",
    "#Create new KNN object\n",
    "knn_hpt = KNeighborsClassifier()\n",
    "#Use GridSearch\n",
    "\n",
    "X_val=X_test_complete.reset_index(drop=True)\n",
    "X_val=X_val.iloc[0:1000,:]\n",
    "y_val=y_test_complete.reset_index(drop=True)\n",
    "y_val=y_val[0:1000]\n",
    "\n",
    "clf = GridSearchCV(knn_hpt, hyperparameters, cv=10, scoring ='f1_weighted')\n",
    "#Fit the model\n",
    "best_model = clf.fit(X_val, y_val)\n",
    "#Print The value of best Hyperparameters\n",
    "print('Best leaf_size:', best_model.best_estimator_.get_params()['leaf_size'])\n",
    "print('Best p:', best_model.best_estimator_.get_params()['p'])\n",
    "print('Best n_neighbors:', best_model.best_estimator_.get_params()['n_neighbors'])"
   ]
  },
  {
   "cell_type": "markdown",
   "metadata": {},
   "source": [
    "We now fit KNN with optimized hyperparameters"
   ]
  },
  {
   "cell_type": "code",
   "execution_count": 46,
   "metadata": {},
   "outputs": [
    {
     "name": "stdout",
     "output_type": "stream",
     "text": [
      "0.89863603733\n"
     ]
    }
   ],
   "source": [
    "KNC_complete_best=KNeighborsClassifier(leaf_size=40,p=1,n_neighbors=8)\n",
    "KNC_complete_best.fit(X_train_complete, y_train_complete) \n",
    "y_pred_complete= KNC_complete_best.predict(X_test_complete)\n",
    "KNC_complete_f1=f1_score(y_pred_complete, y_test_complete)\n",
    "print(KNC_complete_f1)"
   ]
  },
  {
   "cell_type": "code",
   "execution_count": 47,
   "metadata": {},
   "outputs": [],
   "source": [
    "import pickle\n",
    "filename = 'complete_model.sav'\n",
    "pickle.dump(KNC_complete, open(filename, 'wb'))"
   ]
  },
  {
   "cell_type": "markdown",
   "metadata": {},
   "source": [
    "The optimized KNN model is saved as a pickle file. "
   ]
  },
  {
   "cell_type": "markdown",
   "metadata": {},
   "source": [
    "# Model for predicting sales outcome for a given offer"
   ]
  },
  {
   "cell_type": "code",
   "execution_count": 48,
   "metadata": {},
   "outputs": [],
   "source": [
    "X=outcome_model[['age', 'gender','income', 'membership_duration', 'difficulty', 'duration', 'reward','offer_type_bogo', \n",
    "            'offer_type_discount', 'offer_type_informational','web', 'email', 'mobile', 'social', 'expire_time',\n",
    "            'completed', 'Total_UID_Sale', 'max_offer', 'median_offer','max_nonoffer','median_nonoffer','avg_offer_sale', \n",
    "            'avg_nonoffer_sale','avg_offer_tran','comp_rate', 'view_rate']]\n",
    "#Perform min max scaling\n",
    "scaler = MinMaxScaler(feature_range=(0,1), copy=False)\n",
    "X = pd.DataFrame(scaler.fit_transform(X), columns=['age', 'gender','income', 'membership_duration', 'difficulty', 'duration', 'reward','offer_type_bogo', \n",
    "            'offer_type_discount', 'offer_type_informational','web', 'email', 'mobile', 'social', 'expire_time',\n",
    "            'completed', 'Total_UID_Sale', 'max_offer', 'median_offer','max_nonoffer','median_nonoffer','avg_offer_sale', \n",
    "            'avg_nonoffer_sale','avg_offer_tran','comp_rate', 'view_rate'])\n",
    "\n",
    "\n",
    "# perform test train splits\n",
    "X_train, X_test, y_train, y_test = train_test_split(X, y_outcome, test_size = 0.25,  random_state = 21)\n"
   ]
  },
  {
   "cell_type": "code",
   "execution_count": 49,
   "metadata": {},
   "outputs": [
    {
     "name": "stdout",
     "output_type": "stream",
     "text": [
      "F1 score for the baseline complete model =  0.752288537303\n"
     ]
    }
   ],
   "source": [
    "# Fit baseline model, predict test data and compute metric\n",
    "LG_final = LogisticRegression(random_state=0, class_weight='balanced')\n",
    "LG_final.fit(X_train, y_train)\n",
    "y_pred=LG_final.predict(X_test)\n",
    "LG_final_f1=f1_score(y_pred, y_test, average='weighted')\n",
    "print('F1 score for the baseline complete model = ', LG_final_f1)"
   ]
  },
  {
   "cell_type": "code",
   "execution_count": 50,
   "metadata": {},
   "outputs": [
    {
     "name": "stdout",
     "output_type": "stream",
     "text": [
      "F1 score for the Naive Bayes model =  0.404287791455\n"
     ]
    },
    {
     "name": "stderr",
     "output_type": "stream",
     "text": [
      "/opt/conda/lib/python3.6/site-packages/sklearn/metrics/classification.py:1137: UndefinedMetricWarning: F-score is ill-defined and being set to 0.0 in labels with no true samples.\n",
      "  'recall', 'true', average, warn_for)\n"
     ]
    }
   ],
   "source": [
    "#Naive Bayes model\n",
    "GNB_final = GaussianNB()\n",
    "GNB_final.fit(X_train, y_train)\n",
    "y_pred = GNB_final.predict(X_test)\n",
    "GNB_f1=f1_score(y_pred, y_test, average='weighted')\n",
    "print('F1 score for the Naive Bayes model = ', GNB_f1)\n"
   ]
  },
  {
   "cell_type": "code",
   "execution_count": 51,
   "metadata": {},
   "outputs": [
    {
     "name": "stdout",
     "output_type": "stream",
     "text": [
      "0.651867168597\n"
     ]
    }
   ],
   "source": [
    "#KNN classifier\n",
    "KNC_final=KNeighborsClassifier()\n",
    "KNC_final.fit(X_train, y_train) \n",
    "y_pred= KNC_final.predict(X_test)\n",
    "KNC_f1=f1_score(y_pred, y_test, average='weighted')\n",
    "print(KNC_f1)"
   ]
  },
  {
   "cell_type": "code",
   "execution_count": 52,
   "metadata": {},
   "outputs": [
    {
     "name": "stdout",
     "output_type": "stream",
     "text": [
      "0.714039849755\n"
     ]
    }
   ],
   "source": [
    "#Random forest classifier\n",
    "RFC = RandomForestClassifier()\n",
    "RFC.fit(X_train, y_train)\n",
    "y_pred = RFC.predict(X_test)\n",
    "RFC_f1=f1_score(y_test, y_pred, average='weighted')\n",
    "print(RFC_f1)"
   ]
  },
  {
   "cell_type": "markdown",
   "metadata": {},
   "source": [
    "Of all the models tested, logistic regression has given us the best results, we will now perform hyper parameter tuning using GridSearchCV to fit the best model to the training data."
   ]
  },
  {
   "cell_type": "code",
   "execution_count": 53,
   "metadata": {},
   "outputs": [
    {
     "name": "stdout",
     "output_type": "stream",
     "text": [
      "{'C': 1.5, 'class_weight': 'balanced', 'penalty': 'l1', 'tol': 1e-05}\n"
     ]
    }
   ],
   "source": [
    "X_val=X_test.reset_index(drop=True)\n",
    "X_val=X_val.iloc[0:2000,:]\n",
    "y_val=y_test.reset_index(drop=True)\n",
    "y_val=y_val[0:2000]\n",
    "\n",
    " \n",
    "LG_HPT = LogisticRegression(random_state=0, class_weight='balanced')\n",
    "param_grid = { \n",
    "    'penalty': ['l1', 'l2'],\n",
    "    'tol': [1e-4, 1e-5],\n",
    "    'C': [0.5, 1,1.5],\n",
    "    'class_weight':['balanced']\n",
    "}\n",
    "\n",
    "CV_LG = GridSearchCV(estimator=LG_HPT, param_grid=param_grid, cv= 5, scoring ='f1_weighted')\n",
    "CV_LG.fit(X, y_outcome)\n",
    "print(CV_LG.best_params_)"
   ]
  },
  {
   "cell_type": "code",
   "execution_count": 54,
   "metadata": {},
   "outputs": [
    {
     "name": "stdout",
     "output_type": "stream",
     "text": [
      "F1 score for the baseline complete model =  0.772269078062\n"
     ]
    }
   ],
   "source": [
    "LG_final = LogisticRegression(random_state=0, class_weight='balanced', C=1.5, penalty='l1', tol=1e-05)\n",
    "LG_final.fit(X_train, y_train)\n",
    "y_pred=LG_final.predict(X_test)\n",
    "LG_final_f1=f1_score(y_pred, y_test, average='weighted')\n",
    "print('F1 score for the baseline complete model = ', LG_final_f1)"
   ]
  },
  {
   "cell_type": "code",
   "execution_count": 55,
   "metadata": {},
   "outputs": [],
   "source": [
    "import pickle\n",
    "filename = 'Outcome_model.sav'\n",
    "pickle.dump(LG_final, open(filename, 'wb'))"
   ]
  },
  {
   "cell_type": "markdown",
   "metadata": {},
   "source": [
    "# Conclusions:"
   ]
  },
  {
   "cell_type": "markdown",
   "metadata": {},
   "source": [
    "\n",
    "In this project, we have developed machine learning models to answer the following questions:\n",
    "\n",
    "1.\tViews\n",
    "    \n",
    "    a.\tWhat is the hit rate/view rate of the promotional offers?\n",
    "    \n",
    "    b.\tHow do demographics and advertising techniques affect the view rate?\n",
    "    \n",
    "    \n",
    "2.\tCompletion\n",
    "\n",
    "    a.\tWhat percentage of the offers are completed by the customers? \n",
    "    \n",
    "    b.\tHow do different offer types stack up in terms of completion rates?\n",
    "    \n",
    "    c.\tWhat other factors impact the completion rate\n",
    "    \n",
    "    \n",
    "    \n",
    "3.\tSales increase\n",
    "\n",
    "    a.\tDo promotional offers result in increased sales?\n",
    "\n",
    "We fit a baseline logistic regression model for each of the above problem. We then fit three other models to compare and select the best model. We then performed hyper parameter tuning to identify the best model to predict outcomes. We also saved the final models as pickle files\n",
    "\n",
    "We now have models that can predict a customer response to any of the three offers in the given dataset\n"
   ]
  }
 ],
 "metadata": {
  "kernelspec": {
   "display_name": "Python 3",
   "language": "python",
   "name": "python3"
  },
  "language_info": {
   "codemirror_mode": {
    "name": "ipython",
    "version": 3
   },
   "file_extension": ".py",
   "mimetype": "text/x-python",
   "name": "python",
   "nbconvert_exporter": "python",
   "pygments_lexer": "ipython3",
   "version": "3.6.3"
  }
 },
 "nbformat": 4,
 "nbformat_minor": 2
}
